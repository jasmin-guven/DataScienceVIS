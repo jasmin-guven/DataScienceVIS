{
  "nbformat": 4,
  "nbformat_minor": 0,
  "metadata": {
    "colab": {
      "name": "titanic_exercise.ipynb",
      "provenance": [],
      "include_colab_link": true
    },
    "kernelspec": {
      "name": "python3",
      "display_name": "Python 3"
    },
    "language_info": {
      "name": "python"
    }
  },
  "cells": [
    {
      "cell_type": "markdown",
      "metadata": {
        "id": "view-in-github",
        "colab_type": "text"
      },
      "source": [
        "<a href=\"https://colab.research.google.com/github/jasmin-guven/TitanicDataSetVIS/blob/main/titanic_exercise.ipynb\" target=\"_parent\"><img src=\"https://colab.research.google.com/assets/colab-badge.svg\" alt=\"Open In Colab\"/></a>"
      ]
    },
    {
      "cell_type": "markdown",
      "metadata": {
        "id": "flBwzJJyaUEU"
      },
      "source": [
        "#Data science with Python exercise book\n",
        "\n"
      ]
    },
    {
      "cell_type": "markdown",
      "metadata": {
        "id": "clD85noca2Pc"
      },
      "source": [
        "This is the exercise book for the data science lesson in Python. \n",
        "\n",
        "**To use this book, you will need to select File, then Save a copy in Drive and then Sign in to your account and click Open in new tab.**"
      ]
    },
    {
      "cell_type": "markdown",
      "metadata": {
        "id": "v6olq-OmgoUN"
      },
      "source": [
        "**Note:** Do not edit the first code block, as you will need them for this exercise to work."
      ]
    },
    {
      "cell_type": "code",
      "metadata": {
        "id": "Mg7QU8Fgawm2"
      },
      "source": [
        "# Imports \n",
        "import pandas as pd\n",
        "\n",
        "num_of_students = 15\n",
        "\n",
        "# Get data from a url web link\n",
        "url_to_data = 'https://raw.githubusercontent.com/jasmin-guven/TitanicDataSetVIS/main/titanic.csv'\n",
        "\n",
        "# Put our data into a table\n",
        "df = pd.read_csv(url_to_data) # See here we have written pd"
      ],
      "execution_count": null,
      "outputs": []
    },
    {
      "cell_type": "markdown",
      "metadata": {
        "id": "PEGNvldLg9IV"
      },
      "source": [
        "Make sure you run the first block above before you move on to the next section."
      ]
    },
    {
      "cell_type": "markdown",
      "metadata": {
        "id": "B3ubEdORa67_"
      },
      "source": [
        "# Start editing here"
      ]
    },
    {
      "cell_type": "markdown",
      "metadata": {
        "id": "-T-dwaofg2Mc"
      },
      "source": [
        "To check that the above code block has worked, go ahead and print the df dataframe into the below block and click run."
      ]
    },
    {
      "cell_type": "code",
      "metadata": {
        "id": "SuLRC6XBa5tZ"
      },
      "source": [
        "# Print df below this comment to see that the first code block has worked\n"
      ],
      "execution_count": null,
      "outputs": []
    },
    {
      "cell_type": "markdown",
      "metadata": {
        "id": "pzCf5LXza1eO"
      },
      "source": [
        "You should see a table appear below the code block which contains columns like PassengerId, Survived, Pclass, Name, Sex, Age, etc."
      ]
    },
    {
      "cell_type": "markdown",
      "metadata": {
        "id": "6Oz_1xaThYtP"
      },
      "source": [
        "# 1. Questions to be answered\n",
        "\n",
        "1. What was the average age of all the passengers on board Titanic?\n",
        "2. What was the average age of the survivors?\n",
        "3. How many percent of a) men, b) women and c) children survived?\n",
        "\n",
        "# 2. Data cleaning\n",
        "\n",
        "As an exercise, select the 'Survived' column from the df dataframe in the below coding block and click run."
      ]
    },
    {
      "cell_type": "code",
      "metadata": {
        "id": "DknRt88Ihx1n"
      },
      "source": [
        "# Select the 'Survived' column from the dataframe df and print\n",
        "\n"
      ],
      "execution_count": null,
      "outputs": []
    },
    {
      "cell_type": "markdown",
      "metadata": {
        "id": "8Mtn2dpblgc1"
      },
      "source": [
        "When you run the above cell, you should see two columns: Index and Survived.\n",
        "\n",
        "Let's select all the required columns:\n",
        "\n",
        "*   Survived\n",
        "*   Name\n",
        "*   Sex\n",
        "*   Age\n",
        "\n",
        "**Note:** Remember that we need two pairs of square-parantheses!"
      ]
    },
    {
      "cell_type": "code",
      "metadata": {
        "id": "ICjTZrS-l3Ec"
      },
      "source": [
        "# Select the required columns from dataframe df and print\n"
      ],
      "execution_count": null,
      "outputs": []
    },
    {
      "cell_type": "markdown",
      "metadata": {
        "id": "P_JPsYRKmELe"
      },
      "source": [
        "When you run the above cell, you should see the correct columns.\n",
        "\n",
        "Create a new variable called clean_df with our selected columns."
      ]
    },
    {
      "cell_type": "code",
      "metadata": {
        "id": "h7hGQLgDmPuq"
      },
      "source": [
        "# Create a new variable called clean_df \n"
      ],
      "execution_count": null,
      "outputs": []
    },
    {
      "cell_type": "markdown",
      "metadata": {
        "id": "Qqz45doUmVj-"
      },
      "source": [
        "#3. Results\n",
        "\n",
        "Let's start answering our questions.\n",
        "\n",
        "##3.1 What was the average age of all the passengers on board the Titanic?\n",
        "\n",
        "Start with the average age of all passengers.\n"
      ]
    },
    {
      "cell_type": "code",
      "metadata": {
        "id": "E7ocDptwmlVz"
      },
      "source": [
        "# Calculate the mean age of all passengers\n",
        "\n",
        "# Print the mean"
      ],
      "execution_count": null,
      "outputs": []
    },
    {
      "cell_type": "markdown",
      "metadata": {
        "id": "vjIz92DJm3tG"
      },
      "source": [
        "Did you get the correct value?\n",
        "\n",
        "Remember to round up correctly and give 1 decimal place. \n",
        "\n",
        "What units should this value be in?\n"
      ]
    },
    {
      "cell_type": "markdown",
      "metadata": {
        "id": "isqvTa1unQGa"
      },
      "source": [
        "##3.2 What was the average age of survivors?\n",
        "\n",
        "Let's create a dataframe of only passengers who survived and call it survived_df. \n",
        "\n",
        "You will need to use the location function together with a conditional statement."
      ]
    },
    {
      "cell_type": "code",
      "metadata": {
        "id": "Vb7355HBneiC"
      },
      "source": [
        "# Create a new dataframe called survived_df of only the survivors\n",
        "\n",
        "\n",
        "# Print the new dataframe\n"
      ],
      "execution_count": null,
      "outputs": []
    },
    {
      "cell_type": "markdown",
      "metadata": {
        "id": "zPMYQjRant3v"
      },
      "source": [
        "You should now have dataframe of only survived passengers. \n",
        "\n",
        "Next, let's calculate the average age of the survived passengers."
      ]
    },
    {
      "cell_type": "code",
      "metadata": {
        "id": "rVoE_gXpoQcP"
      },
      "source": [
        "# Calculate the mean age of survived passengers and print\n"
      ],
      "execution_count": null,
      "outputs": []
    },
    {
      "cell_type": "markdown",
      "metadata": {
        "id": "5wePk6e1oUIa"
      },
      "source": [
        "Did you get the correct value?\n",
        "\n",
        "Remember to round up correctly and give 1 decimal place.\n",
        "\n",
        "What units should this value be in?"
      ]
    },
    {
      "cell_type": "markdown",
      "metadata": {
        "id": "6EmyjPrFoU9W"
      },
      "source": [
        "#3.3 How many percent of a) men, b) women and c) children survived?\n",
        "\n",
        "**a) How many men survived?**\n",
        "\n",
        "For both men and women, we need to exclude children under the age of 18.0 years. Create a new dataframe called adults_df with only adults.\n",
        "\n"
      ]
    },
    {
      "cell_type": "code",
      "metadata": {
        "id": "N4SLfRvB0pgP"
      },
      "source": [
        "# Create a dataframe of only adults\n",
        "\n",
        "\n",
        "# Print the new dataframe\n",
        "\n"
      ],
      "execution_count": null,
      "outputs": []
    },
    {
      "cell_type": "markdown",
      "metadata": {
        "id": "vzxys2bo0uxL"
      },
      "source": [
        "We should now have a dataframe with only adults. Let's now select men and create a new dataframe called men_df."
      ]
    },
    {
      "cell_type": "code",
      "metadata": {
        "id": "dmpJFG4Y09Di"
      },
      "source": [
        "# Create a dataframe of only men\n",
        "\n",
        "\n",
        "# Print the new dataframe\n"
      ],
      "execution_count": null,
      "outputs": []
    },
    {
      "cell_type": "markdown",
      "metadata": {
        "id": "1chFbDkS1CX_"
      },
      "source": [
        "Let's select only the 'Survived' and 'Sex' columns of the men_df dataframe."
      ]
    },
    {
      "cell_type": "code",
      "metadata": {
        "id": "N6yG0Oh31LQI"
      },
      "source": [
        "# Select only the needed columns \n",
        "men_df = \n",
        "\n",
        "# Print the new dataframe\n",
        "\n"
      ],
      "execution_count": null,
      "outputs": []
    },
    {
      "cell_type": "markdown",
      "metadata": {
        "id": "5npx9b0z1QcE"
      },
      "source": [
        "Get the total number of men and create a new variable called total_men."
      ]
    },
    {
      "cell_type": "code",
      "metadata": {
        "id": "TtDY1HAG1VIV"
      },
      "source": [
        "# Get the total number of men \n",
        "total_men = \n",
        "\n",
        "# Print the number of total men on board\n"
      ],
      "execution_count": null,
      "outputs": []
    },
    {
      "cell_type": "markdown",
      "metadata": {
        "id": "o-Tl2Hxz1gi_"
      },
      "source": [
        "How many men were there?\n",
        "\n",
        "Next, create a new dataframe called survived_men_df by selecting only the survivors from the dataframe men_df."
      ]
    },
    {
      "cell_type": "code",
      "metadata": {
        "id": "ydXDwbT-1o2M"
      },
      "source": [
        "# Select only survived men \n",
        "\n",
        "\n",
        "# Print the new dataframe\n"
      ],
      "execution_count": null,
      "outputs": []
    },
    {
      "cell_type": "markdown",
      "metadata": {
        "id": "di5ZfAwg1q8L"
      },
      "source": [
        "Then, get the number of survived men."
      ]
    },
    {
      "cell_type": "code",
      "metadata": {
        "id": "7OpN-ZF91xOT"
      },
      "source": [
        "# Get the number of survived men\n",
        "\n",
        "\n",
        "# Print the number of survived men \n"
      ],
      "execution_count": null,
      "outputs": []
    },
    {
      "cell_type": "markdown",
      "metadata": {
        "id": "rCPXi4Gm1z_s"
      },
      "source": [
        "How many men survived?\n",
        "\n",
        "\n",
        "Let's calculate the percentage of men who survived."
      ]
    },
    {
      "cell_type": "code",
      "metadata": {
        "id": "MO6aMyLG159B"
      },
      "source": [
        "# Calculate the percentage of men who survived\n",
        "\n",
        "# Print the percentage\n"
      ],
      "execution_count": null,
      "outputs": []
    },
    {
      "cell_type": "markdown",
      "metadata": {
        "id": "BinPaFgv17zo"
      },
      "source": [
        "Did you get the correct value?\n",
        "\n",
        "Remember to round up correctly and give 1 decimal place.\n",
        "\n",
        "What units should this value be in?"
      ]
    },
    {
      "cell_type": "markdown",
      "metadata": {
        "id": "LLQz4xBF2MSV"
      },
      "source": [
        "**b) How many percent of women survived?**\n",
        "\n",
        "Let's repeat the above this time choosing only women. \n",
        "\n",
        "The below code blocks contain the 'skeleton' of the code. This means it only contains comments and it is your job to fill in the code."
      ]
    },
    {
      "cell_type": "code",
      "metadata": {
        "id": "BLpe_H0I8uBx"
      },
      "source": [
        "# Create a dataframe of only women from the adults_df\n",
        "\n",
        "\n",
        "# Print the new dataframe\n",
        "\n"
      ],
      "execution_count": null,
      "outputs": []
    },
    {
      "cell_type": "code",
      "metadata": {
        "id": "oEYrvRtW8-9a"
      },
      "source": [
        "# Select only the needed columns ('Sex' and 'Survived')\n",
        "\n",
        "\n",
        "# Print the new dataframe \n"
      ],
      "execution_count": null,
      "outputs": []
    },
    {
      "cell_type": "code",
      "metadata": {
        "id": "iWby4vBV9CeL"
      },
      "source": [
        "# Create a variable for the number of rows in women_df, \n",
        "# i.e. total number of women\n",
        "\n",
        "\n",
        "# Print number of total women on board\n"
      ],
      "execution_count": null,
      "outputs": []
    },
    {
      "cell_type": "code",
      "metadata": {
        "id": "oMovQczK9FJ9"
      },
      "source": [
        "# Select only survived women\n",
        "\n",
        "\n",
        "# Print the new dataframe\n"
      ],
      "execution_count": null,
      "outputs": []
    },
    {
      "cell_type": "code",
      "metadata": {
        "id": "LoTWBS7h9Hba"
      },
      "source": [
        "# Get the number of survived women\n",
        "\n",
        "\n",
        "# Print the number of survived women\n"
      ],
      "execution_count": null,
      "outputs": []
    },
    {
      "cell_type": "code",
      "metadata": {
        "id": "Z0hQGRFa9MwO"
      },
      "source": [
        "# Calculate the percentage of women who survived\n",
        "\n",
        "\n",
        "# Print the percentage\n"
      ],
      "execution_count": null,
      "outputs": []
    },
    {
      "cell_type": "markdown",
      "metadata": {
        "id": "nnM4ysit9P1F"
      },
      "source": [
        "Did you get the correct value?\n",
        "\n",
        "Remember to round up correctly and give 1 decimal place.\n",
        "\n",
        "What units should this value be in?"
      ]
    },
    {
      "cell_type": "markdown",
      "metadata": {
        "id": "Vkohq5hh9V1l"
      },
      "source": [
        "**c) How many percent of children survived?**\n",
        "\n",
        "This is again very similar to the above, except that we need to select children whose age is less than 18.0 years from our clean_df."
      ]
    },
    {
      "cell_type": "code",
      "metadata": {
        "id": "Lu4q6kRb9ct0"
      },
      "source": [
        "# Create a dataframe of only children\n",
        "\n",
        "\n",
        "# Print the new dataframe\n"
      ],
      "execution_count": null,
      "outputs": []
    },
    {
      "cell_type": "code",
      "metadata": {
        "id": "DMYbBmyQ9fTM"
      },
      "source": [
        "# Select only the required columns: 'Survived' and 'Age'\n",
        "\n",
        "\n",
        "# Print the new dataframe\n"
      ],
      "execution_count": null,
      "outputs": []
    },
    {
      "cell_type": "code",
      "metadata": {
        "id": "SQe-vUY69h9h"
      },
      "source": [
        "# Create a variable for the number of rows in children_df\n",
        "# i.e. the total number of children\n",
        "\n",
        "\n",
        "# Print number of total children on board\n"
      ],
      "execution_count": null,
      "outputs": []
    },
    {
      "cell_type": "code",
      "metadata": {
        "id": "RWDXS8Cw9m3X"
      },
      "source": [
        "# Create a new dataframe from children_df of only survived children\n",
        "\n",
        "\n",
        "# Print the new dataframe\n"
      ],
      "execution_count": null,
      "outputs": []
    },
    {
      "cell_type": "code",
      "metadata": {
        "id": "TsFPRo9U9p5S"
      },
      "source": [
        "# Get the number of survived children\n",
        "\n",
        "\n",
        "# Print the number of survived children\n"
      ],
      "execution_count": null,
      "outputs": []
    },
    {
      "cell_type": "code",
      "metadata": {
        "id": "XJ0SWOPi9sEZ"
      },
      "source": [
        "# Calculate the percentage of children who survived\n",
        "\n",
        "\n",
        "# Print the percentage\n"
      ],
      "execution_count": null,
      "outputs": []
    }
  ]
}