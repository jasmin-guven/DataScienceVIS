{
  "nbformat": 4,
  "nbformat_minor": 0,
  "metadata": {
    "colab": {
      "name": "titanic_full.ipynb",
      "provenance": [],
      "collapsed_sections": [],
      "include_colab_link": true
    },
    "kernelspec": {
      "name": "python3",
      "display_name": "Python 3"
    },
    "language_info": {
      "name": "python"
    }
  },
  "cells": [
    {
      "cell_type": "markdown",
      "metadata": {
        "id": "view-in-github",
        "colab_type": "text"
      },
      "source": [
        "<a href=\"https://colab.research.google.com/github/jasmin-guven/TitanicDataSetVIS/blob/main/titanic_full.ipynb\" target=\"_parent\"><img src=\"https://colab.research.google.com/assets/colab-badge.svg\" alt=\"Open In Colab\"/></a>"
      ]
    },
    {
      "cell_type": "markdown",
      "metadata": {
        "id": "IR8jAWnGPzM8"
      },
      "source": [
        "# Data science with Python notes\n",
        "\n",
        "In this short lesson, we will use the Titanic dataset, which contains information about the passengers. We will learn the basics of coding in Python, and we will attempt to analyse the data to see if we can find any patterns.\n",
        "\n",
        "## Aims\n",
        "\n",
        "In this lession, we will try to answer the following questions:\n",
        "\n",
        "1. What was the average age of all the passengers on board Titanic?\n",
        "2. What was the average age of the survivors?\n",
        "3. How many percent of a) men, b) women and c) children survived?\n",
        "4. What do our results mean?"
      ]
    },
    {
      "cell_type": "markdown",
      "metadata": {
        "id": "phqNvCSORDn3"
      },
      "source": [
        "## 1. Introduction\n",
        "\n",
        "Python codes often begin with *comments* and *imports*.\n",
        "\n",
        "In Python, comments are not 'read' by the code and they are mainly used by coders to make their code more readable by others. Comments can be written anywhere in the code, as long as they start with '#'. They should be used well to describe what we want to do in the lines below the comments."
      ]
    },
    {
      "cell_type": "code",
      "metadata": {
        "id": "1xzEQ_rGP9xD"
      },
      "source": [
        "# This is a comment. "
      ],
      "execution_count": null,
      "outputs": []
    },
    {
      "cell_type": "markdown",
      "metadata": {
        "id": "_in8GzDjRdEj"
      },
      "source": [
        "If you click 'Run' in the above cell [1], nothing will happen, because the only code in this cell is a comment."
      ]
    },
    {
      "cell_type": "code",
      "metadata": {
        "id": "EecsZtt8YW_F"
      },
      "source": [
        "# Imports\n",
        "import pandas as pd"
      ],
      "execution_count": 2,
      "outputs": []
    },
    {
      "cell_type": "markdown",
      "metadata": {
        "id": "suvWSGJ7SDnM"
      },
      "source": [
        "In the above cell, we have written our first import. Imports, as the name suggests, import libraries, or tools, that Python needs for doing different things. \n",
        "\n",
        "As an example, if I asked you to calculate the multiplication 5*6, you would most likely 'import' the times tables of either 5 or 6 in your head and then remember or calculate that the answer to this operation is 30.\n",
        "\n",
        "In a similar way, computers use imports to *remember* how to do certain operations. In the above case, we import a library called *pandas* which Python uses to create tables for data. We can also import libraries *as* something, so in the above we import the pandas library as 'pd'. This way, we don't need to type out pandas everytime we want to use pandas, and instead we write pd:"
      ]
    },
    {
      "cell_type": "code",
      "metadata": {
        "id": "K4HJeqVpS23A"
      },
      "source": [
        "# Get data from a url web link\n",
        "url_to_data = 'https://raw.githubusercontent.com/jasmin-guven/TitanicDataSetVIS/main/titanic.csv'\n",
        "\n",
        "# Put our data into a table\n",
        "df = pd.read_csv(url_to_data) # See here we have written pd\n"
      ],
      "execution_count": 4,
      "outputs": []
    },
    {
      "cell_type": "markdown",
      "metadata": {
        "id": "vTTcvmkjZExN"
      },
      "source": [
        "There is a lot to unpack in the above cell.\n",
        "\n",
        "On the first line we have created something called a *variable*. Just like in mathematics, variables can take different values. In this case, our variable is called *url_to_data* and it's value is a link to the dataset we need in this lesson. \n",
        "\n",
        "**Note**: It is considered good practice to name variables in a descriptive way, so that it is easier to keep track of them. \n",
        "\n",
        "On the second line, we again have a variable, this time called *df*. This is short for *dataframe*. Dataframes are what the Pandas library calls data tables, similar to Excel tables. You can of course name this whatever you like, e.g. table, dataset etc. Just remember to keep it descriptive!\n",
        "\n",
        "So, so far we have made two variables. You may now think, 'Why do the things after the equals signs for our two variables look so different?'. The first one, which is our link to the data, is inside quotation marks. This is a variable *type* called *string*. Strings are basically normal text, and Python interprets them as such. \n",
        "\n",
        "The second one is a bit more confusing. First, we have pd, which we already know stands for Pandas. Next, we have a full stop, followeed by 'read_csv()'. This way of writing (syntax) tells Python to first look at the imported library called Pandas (pd), and then, .read_csv() is a *function* inside that library. We will not go into too much detail about functions here. You just need to know that a function tells Python to do something, in this case '.read_csv()' *reads* a comma-separated variable (csv) file. Then, using the Pandas library, Python puts our data into a dataframe, which we have called df.\n",
        "\n",
        "Below, we again start with a comment, that explains what we are doing in this cell. Go ahead and click run to see what Python outputs. We can output with a function called print()."
      ]
    },
    {
      "cell_type": "code",
      "metadata": {
        "colab": {
          "base_uri": "https://localhost:8080/"
        },
        "id": "I5dBeCS3cJgx",
        "outputId": "7776c4a8-e73b-4dd3-aa6a-e56fc7b6504a"
      },
      "source": [
        "# Check that data was imported correctly\n",
        "print(df)"
      ],
      "execution_count": null,
      "outputs": [
        {
          "output_type": "stream",
          "text": [
            "     PassengerId  Survived  Pclass  ...     Fare Cabin  Embarked\n",
            "0              1         0       3  ...   7.2500   NaN         S\n",
            "1              2         1       1  ...  71.2833   C85         C\n",
            "2              3         1       3  ...   7.9250   NaN         S\n",
            "3              4         1       1  ...  53.1000  C123         S\n",
            "4              5         0       3  ...   8.0500   NaN         S\n",
            "..           ...       ...     ...  ...      ...   ...       ...\n",
            "886          887         0       2  ...  13.0000   NaN         S\n",
            "887          888         1       1  ...  30.0000   B42         S\n",
            "888          889         0       3  ...  23.4500   NaN         S\n",
            "889          890         1       1  ...  30.0000  C148         C\n",
            "890          891         0       3  ...   7.7500   NaN         Q\n",
            "\n",
            "[891 rows x 12 columns]\n"
          ],
          "name": "stdout"
        }
      ]
    },
    {
      "cell_type": "markdown",
      "metadata": {
        "id": "0z8_A95_vDOw"
      },
      "source": [
        "## 2. Data cleaning\n",
        "Now that we know about variables and can access our dataframe, we can start analysing the data and answer our questions:\n",
        "\n",
        "1. What was the average age of all the passengers on board Titanic?\n",
        "2. What was the average age of the survivors?\n",
        "3. How many percent of a) men, b) women and c) children survived?\n",
        "\n",
        "First, we need to clean the data, because we do not need all the information given. With dataframes, we can select the columns we want by writing the name of our dataframe and writing the name of the column(s) we want to select in square brackets: "
      ]
    },
    {
      "cell_type": "code",
      "metadata": {
        "colab": {
          "base_uri": "https://localhost:8080/"
        },
        "id": "zF0FAjP_vMhS",
        "outputId": "d51ceb85-a5bb-4dac-9c8f-f31da1176172"
      },
      "source": [
        "# Select the 'Survived' column\n",
        "# Note here the column name is a string, i.e. normal text, so it\n",
        "# is written inside quotation marks\n",
        "print(df['Survived'])"
      ],
      "execution_count": null,
      "outputs": [
        {
          "output_type": "stream",
          "text": [
            "0      0\n",
            "1      1\n",
            "2      1\n",
            "3      1\n",
            "4      0\n",
            "      ..\n",
            "886    0\n",
            "887    1\n",
            "888    0\n",
            "889    1\n",
            "890    0\n",
            "Name: Survived, Length: 891, dtype: int64\n"
          ],
          "name": "stdout"
        }
      ]
    },
    {
      "cell_type": "markdown",
      "metadata": {
        "id": "OlfYYjlSxpFK"
      },
      "source": [
        "When you click run, you can see that Python prints out two columns instead of one. The first one is called the *Index* and it numbers the rows. \n",
        "\n",
        "**Note:** In Python, we start counting from 0, not 1!\n",
        "\n",
        "The second printed column is the one we have selected, in this case the 'Survived' column. At the bottom, Python will also print the name of the column, the 'length' of the column, i.e. the number of rows it contains, as well as *dtype*, which is short for datatype. In this case dtype is int64, this just means that the column contains integers. Don't worry about the number right now.\n",
        "\n",
        "As an example, let's see what data type the variable url_to_data is. We do this by, again, using a function. This time the function is called type(). Note that we do not need to write the name of any library in front of type(), in contrast to the pd.read_csv() function. This is because type() is already included in the basic Python language. Go ahead and run the cell below."
      ]
    },
    {
      "cell_type": "code",
      "metadata": {
        "colab": {
          "base_uri": "https://localhost:8080/"
        },
        "id": "jHkodlvYygmN",
        "outputId": "e09ee796-eb36-498c-c963-5835b94bb462"
      },
      "source": [
        "# Example: Print the data type of the variable url_to_data:\n",
        "print(type(url_to_data))"
      ],
      "execution_count": null,
      "outputs": [
        {
          "output_type": "stream",
          "text": [
            "<class 'str'>\n"
          ],
          "name": "stdout"
        }
      ]
    },
    {
      "cell_type": "markdown",
      "metadata": {
        "id": "ToFIUTVfqLBV"
      },
      "source": [
        "We see that Python prints out 'str' which is the abbreviation of the word 'string', which we have already covered. \n",
        "\n",
        "Let's move on to data cleaning. Let's select all the columns we need to answer our questions. We can do this in a similar way to the above, but this time we will list all the columns we want. Because we are selecting multiple columns, we need to add a second pair of square-parantheses:"
      ]
    },
    {
      "cell_type": "code",
      "metadata": {
        "colab": {
          "base_uri": "https://localhost:8080/"
        },
        "id": "lvlFGWBHq82n",
        "outputId": "bc7b1092-954c-4145-a2ee-6c127026d85c"
      },
      "source": [
        "# Select the required columns needed to answer our questions\n",
        "print(df[['Survived','Name','Sex','Age']])"
      ],
      "execution_count": null,
      "outputs": [
        {
          "output_type": "stream",
          "text": [
            "     Survived                                               Name     Sex   Age\n",
            "0           0                            Braund, Mr. Owen Harris    male  22.0\n",
            "1           1  Cumings, Mrs. John Bradley (Florence Briggs Th...  female  38.0\n",
            "2           1                             Heikkinen, Miss. Laina  female  26.0\n",
            "3           1       Futrelle, Mrs. Jacques Heath (Lily May Peel)  female  35.0\n",
            "4           0                           Allen, Mr. William Henry    male  35.0\n",
            "..        ...                                                ...     ...   ...\n",
            "886         0                              Montvila, Rev. Juozas    male  27.0\n",
            "887         1                       Graham, Miss. Margaret Edith  female  19.0\n",
            "888         0           Johnston, Miss. Catherine Helen \"Carrie\"  female   NaN\n",
            "889         1                              Behr, Mr. Karl Howell    male  26.0\n",
            "890         0                                Dooley, Mr. Patrick    male  32.0\n",
            "\n",
            "[891 rows x 4 columns]\n"
          ],
          "name": "stdout"
        }
      ]
    },
    {
      "cell_type": "markdown",
      "metadata": {
        "id": "ploydnDYsKgW"
      },
      "source": [
        "Let's create a new dataframe with our selected columns. We can call this second dataframe 'clean_df', as it is 'cleaned':"
      ]
    },
    {
      "cell_type": "code",
      "metadata": {
        "id": "Kkft8l3csaNw"
      },
      "source": [
        "# Create a new variable called clean_df\n",
        "clean_df = df[['Survived','Name','Sex','Age']]"
      ],
      "execution_count": null,
      "outputs": []
    },
    {
      "cell_type": "markdown",
      "metadata": {
        "id": "OG9HWwrqsuyk"
      },
      "source": [
        "From now on we will use the clean_df dataframe, as it is smaller and will be easier to handle. "
      ]
    },
    {
      "cell_type": "markdown",
      "metadata": {
        "id": "19r_24gPtA-3"
      },
      "source": [
        "##3. Results\n",
        "\n",
        "Now that we have cleaned the data, we can start answering our questions. \n",
        "\n",
        "1. What was the average age of all the passengers on board Titanic?\n",
        "2. What was the average age of the survivors?\n",
        "3. How many percent of a) men, b) women and c) children survived?\n",
        "\n",
        "\n",
        "###3.1. What was the average age of all the passengers on board Titanic?\n",
        "\n",
        "To answer our first question, we need a way of getting the average of the 'Age' column. With the Pandas library, this is easy because it includes a function specifically designed for this task. \n",
        "\n",
        "You may already know from your mathematics lessons that the average is also called a mean. In Pandas, the function to calculate the average is .mean(). So, to calculate the mean (average) of the 'Age' column, we need to select that column and then call the .mean() function:"
      ]
    },
    {
      "cell_type": "code",
      "metadata": {
        "colab": {
          "base_uri": "https://localhost:8080/"
        },
        "id": "7l2mq6QbuZoH",
        "outputId": "02ff35e0-b1e8-4ee2-c905-637752c9bdbc"
      },
      "source": [
        "# Get the mean age of all passengers\n",
        "print(clean_df['Age'].mean())"
      ],
      "execution_count": null,
      "outputs": [
        {
          "output_type": "stream",
          "text": [
            "29.69911764705882\n"
          ],
          "name": "stdout"
        }
      ]
    },
    {
      "cell_type": "markdown",
      "metadata": {
        "id": "bzsD-dkBuhIV"
      },
      "source": [
        "By running the above cell, we get the average age of all the passengers to be 29.69911764705882. This looks like a very long number and it has too many decimal places. Often in data science we only want to include 1 or 2 decimal places and we may even round up our answer. In this case, we can give our answer to the first question as 29.7 years. \n",
        "\n",
        "**1. What was the average age of all the passengers on board Titanic?**\n",
        "\n",
        "**Answer:** 29.7 years"
      ]
    },
    {
      "cell_type": "markdown",
      "metadata": {
        "id": "QqiR2uC0vXXn"
      },
      "source": [
        "###3.2. What was the average age of the survivors?\n",
        "\n",
        "Now that we know the average age of all the passengers, we also want to find out the average age of the *survived* passengers. \n",
        "\n",
        "To do this, we need to consider something called a *condition*. This is not very different from the every-day meaning of the word. \n",
        "\n",
        "For example, let's say you have a bar of chocolate and your friend has a bag of sweets. You then ask your friend for a sweet, and they agree **only if** they can have a piece of your chocolate. That is, you will get a sweet on the **condition** that you give away one of your sweets. \n",
        "\n",
        "In Python, there are similar conditions, and one of them is actually called 'if'. We can then tell Python to do something **if** a certain condition is met. In our case, we want to get the average age of only those passengers who survived. To do this, we need to write a condition that states:\n",
        "\n",
        "**If the passenger is alive, then get their age and calculate the average.**\n",
        "\n",
        "With this method, we can get the ages of all the passengers who survived. Let's make a new dataframe that contains the information of survived passengers. \n",
        "\n",
        "Before we do this, we need to take a look at our 'Survived' column. "
      ]
    },
    {
      "cell_type": "code",
      "metadata": {
        "colab": {
          "base_uri": "https://localhost:8080/"
        },
        "id": "D3nRyoR0yk3I",
        "outputId": "525d1ff6-c8ac-4b29-c3bf-e2f12ae894a2"
      },
      "source": [
        "# Output the 'Survived' column\n",
        "print(clean_df['Survived'])"
      ],
      "execution_count": null,
      "outputs": [
        {
          "output_type": "stream",
          "text": [
            "0      0\n",
            "1      1\n",
            "2      1\n",
            "3      1\n",
            "4      0\n",
            "      ..\n",
            "886    0\n",
            "887    1\n",
            "888    0\n",
            "889    1\n",
            "890    0\n",
            "Name: Survived, Length: 891, dtype: int64\n"
          ],
          "name": "stdout"
        }
      ]
    },
    {
      "cell_type": "markdown",
      "metadata": {
        "id": "s1U0rgcUyohh"
      },
      "source": [
        "Interestingly, the column only contains the numbers 0 and 1. This is because computers often deal in the **binary** system where all the infromation is stored in the form of sequences of 0 and 1. In other words, binary means that there are two options, 0 or 1. In our case of the 'Survived' column we also have two options: \n",
        "\n",
        "\n",
        "Did the passenger survive?\n",
        "*   Yes\n",
        "*   No\n",
        "\n",
        "In our dataframe, this is written in terms of a True or False statement. In Python, 0 means False and 1 means True. So, if the value in the 'Survived' column is 0, it means that it is False that the passenger survived, and if it is 1, it is True that the passenger survived. \n",
        "\n",
        "Combining this with our knowledge of conditions, we can now write a Python condition to create a dataframe of only survived passengers. For this, we need to use anothe function called .loc[], as the name suggests, it *locates* values in our dataframe. We can then write our condition inside the .loc[] function."
      ]
    },
    {
      "cell_type": "code",
      "metadata": {
        "colab": {
          "base_uri": "https://localhost:8080/"
        },
        "id": "O7P91EJW0X0Q",
        "outputId": "e3b850ff-c66b-41c6-82ce-2fac6ff2c228"
      },
      "source": [
        "# Create a new dataframe called survived_df of only the \n",
        "# passengers who survived\n",
        "survived_df = clean_df.loc[clean_df['Survived']== 1]\n",
        "\n",
        "# Print the new dataframe\n",
        "print(survived_df)"
      ],
      "execution_count": null,
      "outputs": [
        {
          "output_type": "stream",
          "text": [
            "     Survived  Pclass  ...     Sex   Age\n",
            "1           1       1  ...  female  38.0\n",
            "2           1       3  ...  female  26.0\n",
            "3           1       1  ...  female  35.0\n",
            "8           1       3  ...  female  27.0\n",
            "9           1       2  ...  female  14.0\n",
            "..        ...     ...  ...     ...   ...\n",
            "875         1       3  ...  female  15.0\n",
            "879         1       1  ...  female  56.0\n",
            "880         1       2  ...  female  25.0\n",
            "887         1       1  ...  female  19.0\n",
            "889         1       1  ...    male  26.0\n",
            "\n",
            "[342 rows x 5 columns]\n"
          ],
          "name": "stdout"
        }
      ]
    },
    {
      "cell_type": "markdown",
      "metadata": {
        "id": "mtT5eaz01pfX"
      },
      "source": [
        "Then, to answer the second question, we can again call the .mean() function on the 'Age' column of the survived_df dataframe:"
      ]
    },
    {
      "cell_type": "code",
      "metadata": {
        "colab": {
          "base_uri": "https://localhost:8080/"
        },
        "id": "nzv-gxe31_fJ",
        "outputId": "09d5cf1c-191c-4776-c8bf-075976647cf6"
      },
      "source": [
        "# From the survived_df calculate the average age\n",
        "print(survived_df['Age'].mean())"
      ],
      "execution_count": null,
      "outputs": [
        {
          "output_type": "stream",
          "text": [
            "28.343689655172415\n"
          ],
          "name": "stdout"
        }
      ]
    },
    {
      "cell_type": "markdown",
      "metadata": {
        "id": "ufYa62102VAu"
      },
      "source": [
        "**Note:** Don't forget to round up the answer and only give 1 decimal place! And remember to give the answer with its units.\n",
        "\n",
        "**2. What was the average age of the survivors?**\n",
        "\n",
        "**Answer:** 28.3 years"
      ]
    },
    {
      "cell_type": "markdown",
      "metadata": {
        "id": "HycjugyN3LF4"
      },
      "source": [
        "###3.3. How many percent of a) men, b) women and c) children survived?"
      ]
    },
    {
      "cell_type": "markdown",
      "metadata": {
        "id": "nwjciv2c7Hp0"
      },
      "source": [
        "Let's start with a) how many men survived? \n",
        "\n",
        "For this, we need the total number of men on board the Titanic as well as the number of men that survived. Let's use our clean_df to get the total number of men on board. We can do this with another condition, this time using the 'Sex' column and either 'male' or 'female'. Let's call this new dataframe men_df. \n",
        "\n",
        "**Note:** We should exclude children whose age is less than 18 years, otherwise we would be counting children in all parts a), b) and c)!\n",
        "\n",
        "Let's first create a dataframe of adults over the age of 18 years.\n"
      ]
    },
    {
      "cell_type": "code",
      "metadata": {
        "colab": {
          "base_uri": "https://localhost:8080/"
        },
        "id": "Oz2kaDtmEf8G",
        "outputId": "5ff8608c-d8a8-4629-ec4e-6e7fea01c74e"
      },
      "source": [
        "# Create a dataframe of only adults\n",
        "adults_df = clean_df.loc[clean_df['Age'] >= 18.0]\n",
        "\n",
        "# Print the new dataframe\n",
        "print(adults_df)"
      ],
      "execution_count": null,
      "outputs": [
        {
          "output_type": "stream",
          "text": [
            "     Survived  Pclass  ...     Sex   Age\n",
            "0           0       3  ...    male  22.0\n",
            "1           1       1  ...  female  38.0\n",
            "2           1       3  ...  female  26.0\n",
            "3           1       1  ...  female  35.0\n",
            "4           0       3  ...    male  35.0\n",
            "..        ...     ...  ...     ...   ...\n",
            "885         0       3  ...  female  39.0\n",
            "886         0       2  ...    male  27.0\n",
            "887         1       1  ...  female  19.0\n",
            "889         1       1  ...    male  26.0\n",
            "890         0       3  ...    male  32.0\n",
            "\n",
            "[601 rows x 5 columns]\n"
          ],
          "name": "stdout"
        }
      ]
    },
    {
      "cell_type": "markdown",
      "metadata": {
        "id": "rX2blNMOEmkw"
      },
      "source": [
        "The '>=' sign means 'greater than or equal to' which will be familiar to you from your mathematics lessons. The 'and' statement is included in Python, similar to the 'if' statement.\n",
        "\n",
        "We can then select only the male adults:"
      ]
    },
    {
      "cell_type": "code",
      "metadata": {
        "colab": {
          "base_uri": "https://localhost:8080/"
        },
        "id": "X4xy5fxV7gJI",
        "outputId": "57de6a69-c4a2-42f2-d139-40ed836c42d8"
      },
      "source": [
        "# Create a dataframe of only men\n",
        "men_df = adults_df.loc[adults_df['Sex']=='male']\n",
        "\n",
        "# Print the new dataframe\n",
        "print(men_df)"
      ],
      "execution_count": null,
      "outputs": [
        {
          "output_type": "stream",
          "text": [
            "     Survived  Pclass                            Name   Sex   Age\n",
            "0           0       3         Braund, Mr. Owen Harris  male  22.0\n",
            "4           0       3        Allen, Mr. William Henry  male  35.0\n",
            "6           0       1         McCarthy, Mr. Timothy J  male  54.0\n",
            "12          0       3  Saundercock, Mr. William Henry  male  20.0\n",
            "13          0       3     Andersson, Mr. Anders Johan  male  39.0\n",
            "..        ...     ...                             ...   ...   ...\n",
            "883         0       2   Banfield, Mr. Frederick James  male  28.0\n",
            "884         0       3          Sutehall, Mr. Henry Jr  male  25.0\n",
            "886         0       2           Montvila, Rev. Juozas  male  27.0\n",
            "889         1       1           Behr, Mr. Karl Howell  male  26.0\n",
            "890         0       3             Dooley, Mr. Patrick  male  32.0\n",
            "\n",
            "[395 rows x 5 columns]\n"
          ],
          "name": "stdout"
        }
      ]
    },
    {
      "cell_type": "markdown",
      "metadata": {
        "id": "Ae6Ggz199Xf7"
      },
      "source": [
        "Let's select only the 'Survived' and the 'Sex' columns."
      ]
    },
    {
      "cell_type": "code",
      "metadata": {
        "colab": {
          "base_uri": "https://localhost:8080/"
        },
        "id": "WmIKRasj9csU",
        "outputId": "932c2a91-5791-4482-c26b-88ef285b12d2"
      },
      "source": [
        "# Select only the needed columns\n",
        "men_df = men_df[['Sex','Survived']]\n",
        "\n",
        "# Print new dataframe\n",
        "print(men_df)"
      ],
      "execution_count": null,
      "outputs": [
        {
          "output_type": "stream",
          "text": [
            "      Sex  Survived\n",
            "0    male         0\n",
            "4    male         0\n",
            "6    male         0\n",
            "12   male         0\n",
            "13   male         0\n",
            "..    ...       ...\n",
            "883  male         0\n",
            "884  male         0\n",
            "886  male         0\n",
            "889  male         1\n",
            "890  male         0\n",
            "\n",
            "[395 rows x 2 columns]\n"
          ],
          "name": "stdout"
        }
      ]
    },
    {
      "cell_type": "markdown",
      "metadata": {
        "id": "e1y9U_Hz9vBx"
      },
      "source": [
        "Now we can get the total number of men on board by getting the number of rows in the above dataframe. We can do this with a Python function called len(), which is short for 'length'. Let's create a variable called 'total_men' that will correspond to the number of total men on board:"
      ]
    },
    {
      "cell_type": "code",
      "metadata": {
        "colab": {
          "base_uri": "https://localhost:8080/"
        },
        "id": "vJYgrMuA96O9",
        "outputId": "dff7c4dc-9e23-40a8-f17f-0f8628eac22b"
      },
      "source": [
        "# Show the number of rows in men_df, i.e. total number of men\n",
        "total_men = len(men_df)\n",
        "\n",
        "# Print number of total men on board\n",
        "print(total_men)"
      ],
      "execution_count": null,
      "outputs": [
        {
          "output_type": "stream",
          "text": [
            "395\n"
          ],
          "name": "stdout"
        }
      ]
    },
    {
      "cell_type": "markdown",
      "metadata": {
        "id": "JnIvdFni-F-a"
      },
      "source": [
        "So, there were 395 men in total. Next, we need to select only the survived men from men_df and see how many men survived. Let's create a new dataframe called survived_men_df:"
      ]
    },
    {
      "cell_type": "code",
      "metadata": {
        "colab": {
          "base_uri": "https://localhost:8080/"
        },
        "id": "_VxsYoVR-S7s",
        "outputId": "7a8dbe0e-44ed-4b61-9bf5-d983c639c718"
      },
      "source": [
        "# Select only survived men \n",
        "survived_men_df = men_df.loc[men_df['Survived']==1]\n",
        "\n",
        "# Print the new dataframe\n",
        "print(survived_men_df)"
      ],
      "execution_count": null,
      "outputs": [
        {
          "output_type": "stream",
          "text": [
            "      Sex  Survived\n",
            "21   male         1\n",
            "23   male         1\n",
            "74   male         1\n",
            "81   male         1\n",
            "97   male         1\n",
            "..    ...       ...\n",
            "804  male         1\n",
            "821  male         1\n",
            "838  male         1\n",
            "857  male         1\n",
            "889  male         1\n",
            "\n",
            "[70 rows x 2 columns]\n"
          ],
          "name": "stdout"
        }
      ]
    },
    {
      "cell_type": "markdown",
      "metadata": {
        "id": "3aLOqTF7-yKY"
      },
      "source": [
        "We can then use the len() function on this dataframe to get the number of survived men:"
      ]
    },
    {
      "cell_type": "code",
      "metadata": {
        "colab": {
          "base_uri": "https://localhost:8080/"
        },
        "id": "YcrCzAP6-2vz",
        "outputId": "5a02479e-7fe5-43f8-a18d-b11f5c066075"
      },
      "source": [
        "# Get the number of survived men\n",
        "survived_men = len(survived_men_df)\n",
        "\n",
        "# Print the number of survived men \n",
        "print(survived_men)"
      ],
      "execution_count": null,
      "outputs": [
        {
          "output_type": "stream",
          "text": [
            "70\n"
          ],
          "name": "stdout"
        }
      ]
    },
    {
      "cell_type": "markdown",
      "metadata": {
        "id": "x457up9H-7xb"
      },
      "source": [
        "So 70 men survived. How do we calculate the percentage of men who survived? \n",
        "\n",
        "This will probably be familiar to you from mathematics:\n",
        "\n",
        "![Screenshot 2021-07-13 at 11.35.06.png](data:image/png;base64,iVBORw0KGgoAAAANSUhEUgAAAeIAAACOCAYAAADtqAs2AAAMa2lDQ1BJQ0MgUHJvZmlsZQAASImVVwdYU8kWnluSkJDQAghICb0J0gkgJYQWekewEZJAQokxIajY0UUF1y6iYENXRRTbCogdu7Io9r5YUFHWRV1sqLwJCei6r3zvfN/c++fMmf+UO5N7DwCaH7gSST6qBUCBuFCaGB7MGJ2ewSB1AgzQAA4HkcuTSVjx8dEAyuD97/LuBkAU96tOCq5/zv9X0eELZDwAkLEQZ/FlvAKIjwOAV/Mk0kIAiAq95eRCiQLPhlhXCgOEeKUC5yjxdgXOUuLDAzbJiWyILwOgRuVypTkAaNyDekYRLwfyaHyG2EXMF4kB0BwBcQBPyOVDrIh9REHBRAWuhNgO2ksghvEAZtZ3nDl/488a4udyc4awMq8BUQsRyST53Kn/Z2n+txTkywd92MBBFUojEhX5wxreypsYpcBUiLvFWbFxilpD/EHEV9YdAJQilEekKO1RY56MDesH9CF24XNDoiA2hjhMnB8brdJnZYvCOBDD3YJOERVykiE2gHiBQBaapLLZKJ2YqPKFNmRL2SyV/hxXOuBX4euBPC+FpeJ/IxRwVPyYRrEwOQ1iCsRWRaLUWIg1IHaW5SVFqWxGFQvZsYM2UnmiIn4riBMF4vBgJT9WlC0NS1TZlxXIBvPFNgpFnFgV3lcoTI5Q1gc7xeMOxA9zwS4LxKyUQR6BbHT0YC58QUioMnfsuUCckqTi+SApDE5UrsUpkvx4lT1uIcgPV+gtIPaQFSWp1uKphXBzKvnxbElhfLIyTrw4lxsZr4wHXwqiARuEAAaQw5EFJoJcIGrrbuyGv5QzYYALpCAHCICTSjO4Im1gRgyvSaAY/AGRAMiG1gUPzApAEdR/GdIqr04ge2C2aGBFHngKcQGIAvnwt3xglXjIWyp4AjWif3jnwsGD8ebDoZj/9/pB7TcNC2qiVRr5oEeG5qAlMZQYQowghhHtcSM8APfDo+E1CA43nIn7DObxzZ7wlNBOeES4Tugg3J4gKpH+EGUM6ID8YapaZH1fC9wGcnriwbg/ZIfMuD5uBJxwD+iHhQdCz55Qy1bFragK4wfuv2Xw3dNQ2ZFdyCh5GDmIbPfjSg0HDc8hFkWtv6+PMtasoXqzh2Z+9M/+rvp8eI/60RJbgO3HzmInsPPYYawRMLBjWBPWih1R4KHd9WRgdw16SxyIJw/yiP7hj6vyqaikzKXOpcvls3KuUDClUHHw2BMlU6WiHGEhgwXfDgIGR8xzHsFwc3FzBUDxrlH+fb1NGHiHIPqt33RzfwfA/1h/f/+hb7rIYwDs9YbH/+A3nR0TAG11AM4d5MmlRUodrrgQ4L+EJjxphsAUWAI7mI8b8AJ+IAiEgkgQB5JBOhgPqyyE+1wKJoPpYA4oBeVgKVgF1oINYDPYDnaBfaARHAYnwBlwEVwG18FduHs6wUvQA96BPgRBSAgNoSOGiBlijTgibggTCUBCkWgkEUlHMpEcRIzIkenIXKQcWY6sRTYhtche5CByAjmPtCO3kYdIF/IG+YRiKBXVRU1QG3QkykRZaBSajI5Dc9BJaDE6D12MVqI16E60AT2BXkSvox3oS7QXA5g6po+ZY04YE2NjcVgGlo1JsZlYGVaB1WD1WDN8zlexDqwb+4gTcTrOwJ3gDo7AU3AePgmfiS/C1+Lb8Qb8FH4Vf4j34F8JNIIxwZHgS+AQRhNyCJMJpYQKwlbCAcJpeJY6Ce+IRKI+0ZboDc9iOjGXOI24iLiOuJt4nNhOfEzsJZFIhiRHkj8pjsQlFZJKSWtIO0nHSFdInaQPaupqZmpuamFqGWpitRK1CrUdakfVrqg9U+sja5Gtyb7kODKfPJW8hLyF3Ey+RO4k91G0KbYUf0oyJZcyh1JJqaecptyjvFVXV7dQ91FPUBepz1avVN+jfk79ofpHqg7VgcqmjqXKqYup26jHqbepb2k0mg0tiJZBK6QtptXSTtIe0D5o0DWcNTgafI1ZGlUaDRpXNF5pkjWtNVma4zWLNSs092te0uzWImvZaLG1uFoztaq0Dmrd1OrVpmu7asdpF2gv0t6hfV77uQ5Jx0YnVIevM09ns85Jncd0jG5JZ9N59Ln0LfTT9E5doq6tLkc3V7dcd5dum26Pno6eh16q3hS9Kr0jeh36mL6NPkc/X3+J/j79G/qfhpkMYw0TDFs4rH7YlWHvDYYbBBkIDMoMdhtcN/hkyDAMNcwzXGbYaHjfCDdyMEowmmy03ui0Ufdw3eF+w3nDy4bvG37HGDV2ME40nma82bjVuNfE1CTcRGKyxuSkSbepvmmQaa7pStOjpl1mdLMAM5HZSrNjZi8YegwWI59RyTjF6DE3No8wl5tvMm8z77OwtUixKLHYbXHfkmLJtMy2XGnZYtljZWYVYzXdqs7qjjXZmmkttF5tfdb6vY2tTZrNfJtGm+e2BrYc22LbOtt7djS7QLtJdjV21+yJ9kz7PPt19pcdUAdPB6FDlcMlR9TRy1HkuM6xfQRhhM8I8YiaETedqE4spyKnOqeHzvrO0c4lzo3Or0ZajcwYuWzk2ZFfXTxd8l22uNx11XGNdC1xbXZ94+bgxnOrcrvmTnMPc5/l3uT+2sPRQ+Cx3uOWJ90zxnO+Z4vnFy9vL6lXvVeXt5V3pne1902mLjOeuYh5zofgE+wzy+ewz0dfL99C332+f/o5+eX57fB7Psp2lGDUllGP/S38uf6b/DsCGAGZARsDOgLNA7mBNYGPgiyD+EFbg56x7Fm5rJ2sV8EuwdLgA8Hv2b7sGezjIVhIeEhZSFuoTmhK6NrQB2EWYTlhdWE94Z7h08KPRxAioiKWRdzkmHB4nFpOT6R35IzIU1HUqKSotVGPoh2ipdHNMWhMZMyKmHux1rHi2MY4EMeJWxF3P942flL8oQRiQnxCVcLTRNfE6Ylnk+hJE5J2JL1LDk5eknw3xS5FntKSqpk6NrU29X1aSNrytI7RI0fPGH0x3ShdlN6UQcpIzdia0TsmdMyqMZ1jPceWjr0xznbclHHnxxuNzx9/ZILmBO6E/ZmEzLTMHZmfuXHcGm5vFierOquHx+at5r3kB/FX8rsE/oLlgmfZ/tnLs5/n+OesyOkSBgorhN0itmit6HVuRO6G3Pd5cXnb8vrz0/J3F6gVZBYcFOuI88SnJppOnDKxXeIoKZV0TPKdtGpSjzRKulWGyMbJmgp14Ud9q9xO/pP8YVFAUVXRh8mpk/dP0Z4intI61WHqwqnPisOKf5mGT+NNa5luPn3O9IczWDM2zURmZs1smWU5a96sztnhs7fPoczJm/NbiUvJ8pK/5qbNbZ5nMm/2vMc/hf9UV6pRKi29Od9v/oYF+ALRgraF7gvXLPxaxi+7UO5SXlH+eRFv0YWfXX+u/Ll/cfbitiVeS9YvJS4VL72xLHDZ9uXay4uXP14Rs6JhJWNl2cq/Vk1Ydb7Co2LDaspq+eqOyujKpjVWa5au+bxWuPZ6VXDV7mrj6oXV79fx111ZH7S+foPJhvINnzaKNt7aFL6pocampmIzcXPR5qdbUrec/YX5S+1Wo63lW79sE2/r2J64/VStd23tDuMdS+rQOnld186xOy/vCtnVVO9Uv2m3/u7yPWCPfM+LvZl7b+yL2teyn7m//lfrX6sP0A+UNSANUxt6GoWNHU3pTe0HIw+2NPs1HzjkfGjbYfPDVUf0jiw5Sjk672j/seJjvcclx7tP5Jx43DKh5e7J0SevnUo41XY66vS5M2FnTp5lnT12zv/c4fO+5w9eYF5ovOh1saHVs/XAb56/HWjzamu45H2p6bLP5eb2Ue1HrwReOXE15OqZa5xrF6/HXm+/kXLj1s2xNztu8W89v51/+/Wdojt9d2ffI9wru691v+KB8YOa3+1/393h1XHkYcjD1kdJj+4+5j1++UT25HPnvKe0pxXPzJ7VPnd7frgrrOvyizEvOl9KXvZ1l/6h/Uf1K7tXv/4Z9Gdrz+ieztfS1/1vFr01fLvtL4+/Wnrjex+8K3jX977sg+GH7R+ZH89+Svv0rG/yZ9Lnyi/2X5q/Rn2911/Q3y/hSrkDnwIYHGh2NgBvtgFASweADvs2yhhlLzggiLJ/HUDgP2FlvzggXgDUw+/3hG74dXMTgD1bYPsF+TVhrxpPAyDZB6Du7kNDJbJsdzclFxX2KYQH/f1vYc9GWgHAl6X9/X01/f1fNsNgYe94XKzsQRVChD3DxlFfsgqywL8RZX/6XY4/3oEiAg/w4/1fIpiQgWvg9bIAAACKZVhJZk1NACoAAAAIAAQBGgAFAAAAAQAAAD4BGwAFAAAAAQAAAEYBKAADAAAAAQACAACHaQAEAAAAAQAAAE4AAAAAAAAAkAAAAAEAAACQAAAAAQADkoYABwAAABIAAAB4oAIABAAAAAEAAAHioAMABAAAAAEAAACOAAAAAEFTQ0lJAAAAU2NyZWVuc2hvdIOZkaoAAAAJcEhZcwAAFiUAABYlAUlSJPAAAAHWaVRYdFhNTDpjb20uYWRvYmUueG1wAAAAAAA8eDp4bXBtZXRhIHhtbG5zOng9ImFkb2JlOm5zOm1ldGEvIiB4OnhtcHRrPSJYTVAgQ29yZSA2LjAuMCI+CiAgIDxyZGY6UkRGIHhtbG5zOnJkZj0iaHR0cDovL3d3dy53My5vcmcvMTk5OS8wMi8yMi1yZGYtc3ludGF4LW5zIyI+CiAgICAgIDxyZGY6RGVzY3JpcHRpb24gcmRmOmFib3V0PSIiCiAgICAgICAgICAgIHhtbG5zOmV4aWY9Imh0dHA6Ly9ucy5hZG9iZS5jb20vZXhpZi8xLjAvIj4KICAgICAgICAgPGV4aWY6UGl4ZWxZRGltZW5zaW9uPjE0MjwvZXhpZjpQaXhlbFlEaW1lbnNpb24+CiAgICAgICAgIDxleGlmOlBpeGVsWERpbWVuc2lvbj40ODI8L2V4aWY6UGl4ZWxYRGltZW5zaW9uPgogICAgICAgICA8ZXhpZjpVc2VyQ29tbWVudD5TY3JlZW5zaG90PC9leGlmOlVzZXJDb21tZW50PgogICAgICA8L3JkZjpEZXNjcmlwdGlvbj4KICAgPC9yZGY6UkRGPgo8L3g6eG1wbWV0YT4KpRac0wAAABxpRE9UAAAAAgAAAAAAAABHAAAAKAAAAEcAAABHAABMbA4xaUcAAEAASURBVHgB7H0HvB5V8fbekEIJkACBEAIk1EASWgAp0pEWQhElIFJVOlJViogCCoKKFJUioYYqVSkKKMVPOqHX0DukEEpCEnLPN+U8c+bs7ntziX9QcPd37057Zuac2bO77/a2QFNRM7GyzetJEUgBHXu1RUGxzgOs0FAE8oKfhgTAJ8j5CoIUTf6m/hhHzfhr1r9m++O3pm6LCVZos/39Iux/2rAjriwuv6XL95EiVfAZJhsJyVJRQ0E72fLuusmftrSpgsZV6mUWZlBX0GiECGq4pv6Vejbjrxl/2NNn65YKlfGSYbCCgTbrn1QA5QBttj9UFj20aAvttMXBYUZpvLDIB8xtcUBa/SLOk4qtpCiJ4iq6GoNXNfmb+jfjT1dQv174dY/5iq2kKInN+oea1RTGq5rtT7P9+Ty2P3ZELGtmZXXOhiRBOthjawAM7xiJ/P35ZGBaHm34fAz2sudjoBoVfNRE8yZ/ZbHRr6sWRzvlgnrZ8039pQI1JWnGnxbF5s3616x/pd1Gs/2htaN0tkV2xP5Xn25IeDMTqydrlK1Wsv1BXZM21wjIzxjIO9VSckCa/OlXZ1N/GSw0NJrxJ+uHrGQyk5+lrMvXNrUJNvvhqhqZS0lp1qx/riiJbbY/zfYHR73/se0vDUK+3EErqa7QxvI4xRqfxmxLjv14EpdMUL2fV8yWtC01xYJ5z9Z8FjMTqj4Vc5O/Wf7N+KcVpVn/bFPAm41m+1fdeLbQZNvUTKg6VMxW9P/d8ddGl4j55JGbpCpRdiWLam9lkMotjIhK5kAbunTvNKLU3fIAG6IzpRa2SKHqFsYmv1aAytPUvxl/zfqHLV3cXtBGxY8KW1lsD8w4nprtT7P9zYaBjAqe6UiK4wnDyqyRIf3Mtr90arqdYO6XCMaqC9YqvoN0yGb+LPBkedQq8wyoMJ63UCfATLjMnwWemvxaBz+UskJFM5EW6gSYCZf5N/XXajXjL44aHR0yzwZKGlQt1AkwEy7zZ4Gnpv5ah2b9l8EgYyQbKLE8RFqoE2AmXObPAk+l8Zdu1srQirU5bu4hTN29F4arYVLYul+fziEBnTKyTX5acLTkmvo344+Gga3D1TWlokmrVbP+VY9+XblSoZwyss32p9n+fMbb35pT037wMV+/2nc0buUnRAxT7x69ibTcscvgb/I39W/GH1YlT5v1r9WaQVXi4mCqHT7N9keq12x//2v2P3ZqWsZtzdqdq9IAlh1sbsTQJ6oGmEENkCmc4Fhgc1WUoAQF2KgaYAYtmaPorI4FNldFCUpQgI2qAWbQkjmKzupYYHNVlKAEBdioGmAGLZmj6KyOBTZXRQlKUICNqgFm0JI5is7qWGBzVZSgBAXYqBpgBi2Zo+isjgU2V0UJSlCAjaoBZtCSOYrO6lhgc1WUoAQF2KgaYAYtmaPorI4FNldFCUpQgI2qAWbQkjmKzupYYHNVlKAEBdioGmAGLZmj6KyOBTZXRQlKUICNqgFm0JI5is7qWGBzVZSgBAXYqBpgBi2Zo+isjgU2V0UJSlCAjaoBZtCSOYrO6lhgc1WUoAQF2KgaYAYtmaPorI4FNldFCUpQgI2qAWbQkjmKak1HxECDmleVUUhrYNVS1iTZODCg1bSmUUhrYNVS1iTZODCglq3KKKQ1sGopa5JsHBjQalrTKKQ1sGopa5JsHBhQy1ZlFNIaWLWUNUk2DgxoNa1pFNIaWLWUNUk2DgyoZasyCmkNrFrKmiQbBwa0mtY0CmkNrFrKmiQbBwbUslUZhbQGVi1lTZKNAwNaTWsahbQGVi1lTZKNAwNq2aqMQloDq5ayJsnGgQGtpjWNQloDq5ayJsnGgQG1bFVGIa2BVUtZk2TjwIBW05pGIa2BVUtZk2TjwIBatiqjkNbAqqWsSTK4dI3Y8sHElCc+t0M8ziHDrFp35hkGUPatTmYVxiQHhI4pT03+pv40FprxZ6sCVjqsKbqeQAJVbXluVmFMcjDomPLUrH/N+kdjoVn/bFX4LNa/+IpLrHy66tXN6xHQguae6UH50o0iBMdy1bPY9f4+Wj0CWlDvQTnoOrM+qN3kz25UoXI19df1qhl/tM7EZ6jztSeXWqxh7Ez/LazN+tdsf+QlMs32d2bbXzkizlYjE4zJ18gaCUi7uZAU2Ut8AKjxZVVmNsGYFl5JDWSTX+uOOliFUCBT5ExmNsGYHFwjAYm8oAYFwBQ5k5lNMCYH10hAIi+oQQEwRc5kZhOMycE1EpDIC2pQAEyRM5nZBGNycI0EJPKCGhQAU+RMZjbBmBxcIwGJvKAGBcAUOZOZTTAmB9dIQCIvqEEBMEXOZGYTjMnBNRKQyAtqUABMkTOZ2QRjcnCNBCTyghoUAFPkTGY2wZgcXCMBibygBgXAFDmTmU0wJgfXSEAiL6hBATBFzmRmE4zJwTUSkMgLalAATJEzYqajRqY2qU/umekqWcy1BZNiCUczOxqr8chyRXuma/KXfuXUFDFTafVYJRzNviz1nzBxQvHsM88W48aNK94d924x/t13iY4vxpO89z77FKuuuip6LRX5svVfOjXT2Zd3+c+062mpJ+5LNP6b/nemAl+M8V+6RpwanQ5TnY767SXsE0XnDZX6dGh0aIcz1hjBeel/Lf+ECROKV19/rVhhyFA55fW/1n8eAH75n3LKb4tDDjmYtPH0KM6Skua6664rttpqK3ahyXuppn7ucMYaIy5e+l+vf9P/eAaKRkbHZ/f9qKkfeap1OGONacYfVcBX48s0/ko74lJHqeO8bauftCS+MPU41ZbRItc4e5Xnq7HV2jEmeZXRItc4e5XnUyRwau0YAyzqmtDCJdGAXuX5ww8/vDj1tFOLj6d8XGy7zTbF1ddcTT7xjWjm3ZrRWCmicEk0R6/yvAGMUWvHGAPHFSihhUuiAb3K8wYwJhSvvPJq8fAjjxQT6Ah49KWXFLfecqtZ8x3xv19/C2yMtq7jNhr4M+n///ryb/r/v73+f5mWv+2IW29QcKHdIYw1Jm1xhGulZyNsoOqaS6qDRS90O4SxxngH4lvpGQYbqLrmkupg+U/nf/a554tll1lamyNHfW3FQw8+WKy8ykqkq/up1Lo3X8T+d6b+H3/8cbHYYosV7747jmoSiuuupyPiETgi1tLpHLUBzbUeCUtn8ud+eex6W47JJe/RrH9N/fkt4W6EGGuMHzDEt9IzDDZQdc0l1cHS1P+zrz/tiPVd01Z6WyLGmKnM5AhsMCIqM5IQL0zidEKKlQHTOLEBk5BlLvf88uZ/4vHHiyFDh2bdv+mmm4pNN9vM7Ya/vP3POu6E8vJf7StfKR647wFC0I74WtoRb40dcTP+mvWPfrDSX7P9oTJkv93ztShtdkt6t96BzRHN9kd/sMTqZMUhYSb7PzsidntAiZTKmjgsAKNZMtOmZRlVgCn18+TT5EeVtCap6qFoJ9U2W21T/PnP18vGZMjgIcUjdEq2S1uX2gPiPFKqrK98GZNQ1fzZAGu9yMxSjg35s86/wfrrF7ffcYe0w5+a/rzyowDIV5Y/6/6X85XlJj+vLr4KqBDTfKn59e+LMv7Rm7wnqWe+52VMQmmUpv9Y6qkSqK/RahHFVFZDVurnFonuMZBJfyVlKeFNWO8qvLOJVWT+uUng8q+tjm7Rje3Ar9QmPxa+FV0qpGUNxf33P1A8/8ILxZZbbFn0nHsuVC/Wvan/+uutX9xxJ++I2+hmrWvpZq0RVBuqSzYmY9kcacZfs/7rO/07Xv94IMm6mG3nSBC5Wf+a7b9sevyWpfPbn/LjSxYlG2ys9Yq4y/Qq52jD2ezGxDBONr8SU4F4RZNfauxLYuVzP2fMbsyXuv7r0xHxnXREzL29nu6aHsHXiGUn/L/Rfx0C/7vLv+k/V6BZ/l/E/U/l1LTbZKVdr1fKaHcKYVXmOU/pACThwIEq0s/V4u3GGwO8UwirMs95avJrHfyPJ1QMFIhEUw1RP8MaA7RTCKsyz3mC/+edf724I+Y26M1adEQcW4MWgzImn1If0H7DGgMPpxBWZZ7zBP/Pu/9N/qb+zfj7Yq5/emoaGw/dnuho5jnO2TFL/7KBMYYBbirra2UoI82JSxLjNvmp6LpZR+XSgnC1Z9YAqB3RtEeIdoDywkNbjUGWL1D+DTbYgK4R3y4dv+5aOjVtN2uRSjqJnkaak5oaEuAL1P/q8qZ+Y5K+xg5jQTf9l3UEVUFZULJm+0eVaca/DIeWYwSDxQBRUStDGakndmra7fQQm2nJ1ZuMByahzWSMYBIw6p2iyW+D3opGDCoE6m3gky1xsIGKpWJ2ii9B/ddff73ijjvupC630anpa4sR9kKPWEfXXa2LU3wJ+p9GC5Z6otJT192m/1wBV5Bm+Tfbn/ijI601aYS4keLNwidb4sogsVTMSeFOTTvXZFdlWTZo1VDVGDgxBAr0Khp+Oqt2Kgcpy+ZUNVQ1Bk4MgZr8X776b7A+jojLb9ZKi164Zvk347/Z/jTb3/+i/U++I5YNFB9PxKnFr0SYsx+UpJxIr2B8nJ55ffa5Z4tnn32ueG/CxGLAwAHFUHol4/Attyi6dOlSvPHmW8VFF1xY/OjwH3l3CTl92vTi3fHj5F3B/P5gfnfw0BVXKpZddhlLmTHU3hntM4oJ4yeI3zjCjx8/vlho4b7FWmusWfo5Q2CacJPTR5M/Kt6h9xOPe+cdeQkE5956663tJls6U1Dcd889xXPPv1AsuGCfYq211ip69uyZpfcd4Oh4NMJAqoztyPNzkWH2+Owm31j/Tz75RPr1LvVP3qtMdNVhw4qBA5ewhfVZ5rf2lRnXAWafefqp4uab/1q8/MrLxaRJ7xcLL9S3GLTcoGLEliOKXr3nFW/U/9P0nx35hR1jHhpTvP7G68W0adOKpZZcshhMj3HN1VPvHuf8G9AR8Z10RMw1lOeIcbOWtJNnafl/2vzsO3XqVKs/v8/6nXfeLbYYvkUx77zzxmUpiYpJ708qHqA73N98482iX7+Fi0GDliv6LbIwh7DxV87/3sT35JG0V157tVicXkyy1FJLFf0WJp+aX+kSSIPNdPk/88zTxU033UzL5KXi/Q/eLxZaaOFiuWVpmdAd5fP26sXNSBM1vzz+ptJ6MY7WEz/2tthC++wH8HuTJhUPPnC/1GSJpZYsllxiyWKB+ebX9v0f1T81NHJabhGUdQrWQhTKs9b1j8ZK///d+kuBm/w0Dpr6dzj+5Omldplns1zlJMfCgTaS4ec//3mYd555wo477hhOOumkcNVVV4Vbbrk1nHfeeaJbfbXVwpVX/iksv/xyYcEFF1TXGOvss84J88w7Dy+pyv/ZZ59NWJc0svfcc0+Yb775An3m0Hzivi3stddeaFqFHnDAAWGOOebg7Y358ShZcqklDfvYY4+FZZZdNgwbNizsvvvuYYEFFwh9+/YNd9x1pzTllVdeCf0W6ReWWGKJsNxyy4WhQ4fK/wpEhwwZEgYNGiS2I488ymJ65sILLwy0sQ3LLL1MGDx4cBg6ZIUwZKj6LbroouHpp5+WHt99993Sx6JLbKvu6aXdl1xyiQ9pvLStH9q2fOA2cfu0bUOtbUcdeWQqqysvt43eUBWWXia2jXwHDx0sfv0Xo7Y99bTlAvPcc8+FNddcU2pK12nDr371qzDq3HPDoYceKnXr1q1bOOYnPwntLo/4QgZFQKJQcexvjvxmmGuuuULffguHLYdvGfbYY4+w9tprh37Uz+9///uBfpyI5/rrrWfLlO6adtFasEgC6mBedfY5Z4V5aGzTRtXig+dlhYmuS8vy5OX/7W9/O3At5pxzzkA/QMNWI0aExx57HFCllOT+++8PX1l9jbBI/0XCN77xjTCCcDyueV3gsfTnP/+ZsK41js2D5dJYWSZrSRxux69pmZx77ihaJofIMulOy+QnR/MyoYA1Mc+i9U76rPsu7Xfsv+/zta7PO7s+c/s33njjMGbMmLxhXkJeUGfLVU5yrIPPGotYoC5KrnKSYx181ljEAnVRcpWTHOvgs8YiFqiLkquc5FgHnzUWsUBdlFzlJMc6+KyxiAXqouQqJznWwWeNRSyi/M3emgkIZ6pRsfWD9z8Mg2nnuiztuHgHllbq5MDcXXfdFeakjSmvoAsssECCkY1ewhD232+/sNNOO4V55p5bMNhR6o6YQCkcCSE8//zzgXequ+y8a1iUNmJ+J76n7IiTAzimo0ePDnvvvXcYPmLL0KNHD/NbckndEd93772hP8X721//KnnOOecca0///ouK7r2JE8PRR/84HHjggWHllVYp7dQL2Wnts/decSOamo528I+ITTffzHJz27m/vOHdg3b877zztuQZO3as9JE36n0XXIjw+qODsZdeGnfEEhSRQ6APQ1Dbjg4HHfj9sPLKK2c5OA/vJLj/1/+FN/DV6V5q22abbVrp09DBQ+hHyR7Utncypz9deRX9AJtbflzxj6+0nLRNkyZNCptsuom0Y4vhw8N7770n/qnFWbgoqPXMM8+UHTDvEC668KIwffonGZhjHf6jI8LAAYuHBx54IKyX7YivNSxygbLB8wY0JrfeQeNzv332DdtvPzL06tUrq83TTz0TZnwyPeyzzz7yY+T5sc/HKBqD6zWIfqxx7eencU9njMTOVv7BOnDgwHAnrRt+mjZtahix5ZbiwzvxUaNGtW6wpNFcCHzln/6ULRNYQWWZ0DLmNg13yyS1oT1wn/fdl/u8veuzjr9n6McHnaXRPq+xVnjh+bHeNbxNfV5+uUESn5fdP//5TzTNcGiLKTKmxlqjSkGd0VhjbFknTetyajM8MjasRtXkpwpIXVxxjDWmqX/NEErVUSPtiNuzI5UygGHQgXrdPvvuRytcG20I79eIlXny+sftf5ejA94RpynP/xztYHkDwf+8wznn7HM6zM/Rp06bFpZeemnzy4+IU/7UE83+t7/9zXzoVGf46KOPwmIDBgT+lY9p52/vTBjaANHRQJfZZgu8EeMJUT+Z0R54B4M2z00/JCZPngx3h/Reaj7qqKPEr0eP2cPFF10kSsRVhM5ZN278uECnEi3P6HhEXIeHbzu3bYvNzWfueXqW2sbIvP6Ix23j+s8x+xzhwpq2Me6II46Q2HPMMWeHy//111+XjTnXkH8ctM+YgSbW5qfLC9TuLST/fL3nC/fed5/g0TYWwDO95pprw8IL9w38YwrLgd6sJT4J6b2iSUh9/3OESpyLzzjwGRXkeerpZ8LhVAf+cTN9+nTvFvn28Oijjyqe+r/KKquI/qKLLgwbbrhhmDhxQu36x2OIzzDRfRRhdqrvq6+9an3mAL7/MZEQLJPZqY0PPvCgQ7IZXiG8/vprukxoGa+0UlomCSHhZPYy93nO1Gc+Iv7R4YdLn6eVfhzBi/vMbec68bpJlxOy/MBxm/yZkrr80IGyL3jQFK/MeYTngWvyN/XHWEjjKmmSzo8e8KAen/Me4XmgdPy5I+IIEuIdvJ6dk+3tt9+WU8MDaefV2Yme9Qx9eEdMYVIkF5eUyywTd6q04eLTgjIZ2Jgs5e677R43jm10anrPzOYF8yZmGm04u3Rpkw3+kksuEY477rhwxOFHENxQ4bLLLw1tEbP9N0dmNsTlU8jYMM82W1fZyMFWphaZmDEPP0z1K8LvzjgjxRWAoTL92mt9VfJkR8TlBCVZ2kY5+MfEbPRD4jXaKcpEKXwWk2L+h6ltvOM843enG94zd9xxu/X5SNoRzWz64x/PNfyll14q6Vrl3377bwq2e4/u4aExvDOhycDGqD7OT/jFCTG+bvzTjjiDZWHySFES4i1ez7Haw4orrCDLjZc5n7EZRGeDPv54ap6oJC27rB4hsg8fbS7cd+Hw4ksvOZTPo/y3dvqWng6n5fCrk38Vsb5tzp3Y22/nZaL95x1y3WTexJzzxz9KP7LxJABDUQjlVxy6gsU+h/s8iPv8cV0K0y1LGFkvqP3/+MftorfIxBjvLaL0lsibyhjL82kY8ybG+CY/VSBWQ4ivjNdzobxNCvepZuZNjPESIUpCvMXrGehtnyq1zyJh8kg+j7d4/WeX3+2I8075pqAHXse/ovgaMK9ofKQ2fbrbEAEolPb4LvQf/vCHsECf+Z2myq626mq6AscNXav88OT4Bx98oPnstWe8RlyTX31Si+aaq6f4Lb744mGRRRYJL774okASIgQ+IvjXP/9fyI7jHIDZFVccavmPP+54lybvvzOEK664Iiy++AA5zaf6NHfhzWUzOkrknSPXfPRo2pnFSbHOA6zQ9jCUdhyyQSS/44/ntgGACFV6+eXctsVT28gFXnxacghd1+aYfP13PJ0OT1bHxvxM2IfPFrDPsoOWodO5+WlmtODqq6+2I6mdd94Z6sqKU/4Vz+OPTxujn9ddf31sUuv6p+BVDn01CymgW2eddSiP7vD4mv7Nf/0bwWB1rKg0P1//Rdvmm793OOEXv7DQdQy7nnjiieaz48gdfIbKUeSMGdPlXgBZJl27hQl0pK0Orfuvy4SuffMyoR8TLGNyvRHVul+lPvP9GDT+pM83c591UqzziOw3tkt95vsG0uSwSZlxFQQpvK68/DMrgEJb9z9LWBIQwtSk8Lomv1Um1sVVB6zQpv4oR7liSXbXiCvl8iPNe0Se8eeff55tKK7nDZ9NSA1qTuGuf94VFqLrnTolu8+/1tp6kwn/Uj+brtHWTR7P9oMPPtjako6IU3yJARGU+kB3Qpvfuuuum1J1ov8JHMIZdFSLDe3AgXSGQHJYIoVCjHSTTb4mN7mxsdyfbEsbE/HpWuS4BNeIoy0neSJuG9eS/wcuMZBODQMNXDX/1772tfALugGvbjrttNOkHXw0v9FGG9VAEBdUIZt+ja4Vxx8St9BlAb9p4/6Po1PSfFMcMPSpx5rYqqrUi9T+8sT11/F4zPObaGpjOlV/NEZ3xFTPuFOCPlHEBQ1hb7pvgeuPvum19mSv9IfGHx95Ar/JJpuk8MSV8VgmPD422mjDiE3xRQERlKJwXIwpvlRjU2n8o8+M5R1xOb/5uUS8HiK2nDVBXlCKgqkSr5QfONAKHgahiAsajRBBm/xWtUo9m/pbbeqYSr0yEAYYaDRCBHXjr3C8hTIcaeSuylIcAO+99x5b0eaiHZrcrAOjD8Jxop6vsfId1jyJDoZoZ/JVOeLQjdZZZ51llhqo2Q6iHbFs6GhDsRfdKGUJI6LOl3U94xExX886+eSTBe2xHfXfkhMzkW4cmovukJUND22g/3rzX7253Jzw4osvhm7du4c3Xn8jw7HQKv/mW+i1aO6nnN51nt5H1E7x3nuT6BpfbBv5/jXeiCYQh0O4F158MXTntr35Ru3y709nDrifvCM67tjjyuk0TCkui8cdd6yNl9NPP0P76XC4vsmxV1xxRY3rNggOqjncnG3L0p3eqD89vuSseU1hkHg1Qb2qbvmvG8cn93/zzTeXcN6nTsHjU9pGfevTp0+CVBxTWy8efbHWmXzWXGvNbFygD6D9aJlg/B93PC2TUtySaPl5+cmypPF/+ul6GcJj0f911k1nAbaIfUZupt4HwQ85BH1uC/vtv7+HA1LjmKuQnx0qOVzEiq2kKIlNftSzpjBe1dQ/VSNxbuBFtmIrKUpiZfyVTk2X4V72fMru78zlndkKK64gd4PeTXfffjx1Sv3a4zaueZc0x7rrrGsbLbtrum41dE06+CDeEevpQr5ZS000dxjL5fLbETFtVC+//DKDKOOdPR9hJdUeu+1h7f76dtsRiAAljHhS/h/TXdfbbLNNDARSBnuZb7ziG5j0mrbcNe3NCJF6ThoCRAw/hsWnU3lj/fWvf93QOaPgo398dGybT6D8k088aRt83oCPvnh0HqJFfgZddtnl5nvgQQeW/AI9CqbXUbmPu+22G9mr+TMnbybDssvEa5LUrmvlZi0ClDDi75Z/Fq8C9s6Jx46Y+3/YYYflIVr0X8/YaP3p4xQlH4gpB2suvvgiHU80NldffTWAEo3wJ554QnAY//xkgJponodUX9f/yy67zHIcSHfa51NyXmcd3J/QFn6APiezc1Mlzw8++CBtF7V/3/32TRiXPymZKwf0suejV40KMdRE8zpMkz8vu0nlYnnZ8039pQI1JcGAUxPN6zA14092xP5Xj3o6b2FV5rmzCP/E44/Z84b4RY7Tad26dg0rrLBiOGD/A+xxIFvmjinnX2ddWulp5eUdxzlnnW1Z6/KjRbyhQ345InbxpaE1nWdIz7n11DT76mMWpSzSYe11yRJroTaOdc/d/7KNGl87ffutt1gdS5pwfH10kUX6hxtvvFHNWdtKWcRNfTfHqWmqDR8Rq1bnEihqlHdzgtz9r9Q2fob0rbf0ESlG+fp/Qo/iLNK/X7jxJm2bhkyZRp1HlyNk2egZi/NGnRvo28j0/2h49JGH6Z/4R1l+RHnSP/IwyXTzF98fwL5c6y23HGEN5PxcK1x3ZcyxdPQsk6RO+ZVzJtfnZd1NftnNWuyU1Vj9Mff9jwsLJhVdpTmUHh1q/8/8w+8T1rXFKSXGwQfpTon79r3vfjc3Z22Txor9YvqRI2OafFZbbXWJXtf/83iZUE0x/kedN6q2/rKcaNnIMuLlQsvoD2fSMom+ukxSfmmEJGwP67gfx+zDk7al2iIx0uwQOQugP4751Hyr6dPWH3Fmlh84LZxvp1mEafL72jDvZGFVLllmuvytyuKoMUznmKb+7fE5YqmRFsrY1nVzJVSWN7R2OplWar9B5ZUcG+4V6KahB+m6H4fOwltS1a/DN4ZIHL0rtZKwRuFP/e21596lBLmDz9+zp95AxG184YUXtF0ekLu2lODCfUT/T/jlCbV4vpFoUXo5hj3GU+p/tUAaZnjcEfMG99JL8qN35BdkJqQmaNt4+RThhBNd21z+667/c1hs0cXoZipRJufI8Q1EusHXG3fWWGPNsNGGG4UN6FEc/udHcjbcYCP6J3mjDVSma5aij/aN6EUPp8ud4jEopXrwoQfiMtcN9ym/OaWSuyMFt5ZfQqLjpi2UT017X8ZmvRNBNcZmAO8dgh4Ra//PpsfreGK4uWSCmLN7GPg5d8PCOWpEH/0vvlhPTfPYXHXYqhqoZv7LE38Z+63Ldo2vrNlh/XVZxWVDy46X1cZf20juc/D5fSp/loqvXZen2GRVR+GgQ9KPD/9IYYZlD0vqWNGVs7SWs5iZUPWpmCWXzFJTVKw6t9BkMTOh6lAxSy6ZNfm5XJUCVWtY1mQumVBG1oSX0svsP1b/QtP7xnoN81HOiTmoWueX06nHzTbbzI6QsQPGzpg34Hzt8drrron+dZe8+de33xHHa8QzyZ/frFX69U2+eaYYjLR8bVvb10aPHfGjPbBxE5mPck7YKJOqk9HftLXU0kvp0SaZff4tRwwPPzv2Z+TvtTEg8ln0FFtu1qI7V2VHzI8A0VTOL8ryLObnx6SwLLhtfNdWjG4e0rafcdt4YmtERHLkj39sR14c6+lnnqlg2DObyDfvaQzmtDfTdWu0janeG8C4iM2JhVe1zvlNZRKD/LM3a5F5ZvktIPKJguNqbE/8qWl+A1UZk2JFjkIcRKdp9QcM3cNANzHplLcKumhMp6apP8NWGSbq2BpApFlHHXWk9Zv7/4wsE4NI8/JMiJJr1QM2lphX2X4c0/jzO2K1Rp9INA712a4RF2FP6zPiKi25WD6NwdY8dhmvco5RXzcnc95TRMm1KSd8GZfHhqdHlDGwGSWnPBOi5FrFw8YS81HOiULN2sIIFJnzTBFf0iocNpaYj3JOFGrWFkagyNzkjzWSmoBPVaFT06qUOewoYKQt1CVUEvkxCH7TEd/8wa+9W4jvhKUNBP/zxmieuecNL7/8chbd58fjIYzlu6Y7k19Pg2kOe3wpy+AEF7BnT33bF7ft9dd4R1ydHLxqLGn4bU/8WkP09++33Za1//VXXwvdu/UIr732WvTU6DJvkQjq4cPTXdPlm7VKzchE+HPb5qKXQ+CI/ba/30Y4tfL8NWpbD/qhlNqmYeDP0m9/+1vrG/fxvviyDUXWz72/pKso6LQ+vdEM44Opf9wlg9enEK3fEftT05k/CxVFVGX6lKiszn4onlM9OkyeyrE/fijymJYzNgbS6DIvJZIjYn5kiHxWHbaKeZQZXibYycsyuVdfgAJcFpaFimLm/V+XrhHzzWkcP923gQz1NLtchFPTs5i/PkPntJXuVhQz73/nMtWjKukqiia/lCSrS6plC3UCzITL/FmoKP7z9ZdrxNKPrHGlnuEaFmE8jF+n+NRTT5XAuch4fjXhaaedGnrN19s24vuX76J0gf1pbvn13SK/z3QQ3azFGwn+35Pvmo5TCpt+fcDGlG/WwkZMj4i9NfKdyO+9dtt9N2vL9iO3RxCp3bHHHivvE/Z44VNDKyZc39xic78jzk9NV51Uk8Jq//kmKNRpJL2y0SYCtm5bjELkiiuvjP66g7jpppssRB1Tzl+HYd3LL71s7eL2ZS+k6GT9l8GpadphYEfc2fzZwC43spQfPxS5nTPbKSG/XCOOOzJ/mtZSAWiKEC6iU9MYm/zec25jDSwuE10e3Kabbk7LJOHrx7+lS0BTGUP9z3581JyaNqxj8OODf/jtteeetW03+EzyC44wHcEslmMS/t/rf5OfKtDU/zMbfzWnpuMolo1PGsZubGNMBr5JpPYOUHbDv3N86KGH9PWAtEHq379/ywW7Hj3Pi51Fqw1duWX88gf4yBFxTf7UlOhNRE9N60aMvuzjIB0G6HCB/Ov/xRujaAPEp+LpyzUSdwa92pFfkvHnv8RnrilFbEnKC66m/niOmDfOHT5HjKbXBP8X37QVdwh809Y7vm0DFg9/kY8MUCNq8nPT+G1qs9H7j1Fr/rhDZeogv2Jjw4j4JvZftL/E5f7pDU3emmeps2RHxPz4Uh1IwkQDkdYQttRb/alpf5rWWghX556dscFpWrI7iLlrE9uzU9P0ta3M7v14mfA7qbFMzqW3mElgD6rznkl+37pyn1uG5jxspP+DDzoktqlNnqNOTYjeRCKXTOBajD8zg6mjHBT/dXZkbfKjEtUqNfWPg6haGta0HLcwfsrxZ6emJV1N9FwVpUjOOvMsebPSRPoIQj4pAL6gjPnpT39KKydd56QNx5QpU0jjrJHlr8UIhnYYeg0O0SMALqBkps8U2oZo7731GhzMoIjiU/acu+NT07lvlKAEtcBg6G1W9NUi3jDyTuXk+FYh+kSg/AD5ZLq9UYMcXBDHpkjggrw3Go+oXBJfE5msntNACAcKBH/tSd6SRG371a/12embb7459F+kf/Z2JcbnviqtSTdoYaOvjxkhMqji4AsK68dTptoPAJ/he9/9nsVdeWU9FZv7RglK0BgYR8R8CpWPiGEGRX4ziMJZHQtsrlLJrpdS/ep/KCoOvkz16FB/8NWdmi43heXR8TlirvUqsiOOEX1gcQzywQksk91331W0NTBFw+BQ/LrKd97OP+jBZkBxlorH39nyJIMzShw/U6/8ung6S2VBxQUZ6uM5awJACepTu5gwgxosUzjBscDmqihBCQqwUTXADFoyR9FZHQtsrooSlKAAG1UDzKAlcxSd1bHA5qooQQkKsFE1wAxaMkfRWR0LbK6KEpSgABtVA8ygJXMUndWxwOaqKEEJCrBRNcAMWjJHUa3piBhoUPOqMgppp53kWbSjaZMjY4+qhkga+l6sbGz5s3Z827pZwBDlG76wEzsLK71LoFA4qGGhhfjrRPHUNK5HmU+OTZsXOiKeK941Tb5yRFyGWozE1OVPVo1++hmn25EnfU9ZzNvRs8U/oc8B+vyWDgyoDxh5HBFzP+3rSzW4aohcc/rp+mYsjrPMMoMkwnZfp7Yd8xPftJrIquKvZcn1QtrhLdZ/Mb0hzaHzbGzINcdQnl122UU8zELM2OfHhtnpAxjcri5tXcIEetNW3aQ+5mmQgQMH2hi47nr/Qo8yNsnGgQG1qFUGOyU+s8AfJSlP1RDtdo2Y+5Zu1nKVgRMoBR0td03rzXlyajomUogDkp7fX41PgvavvPkqx7qstmSO+ckxYZddd/GmrFv+1HR2g1qGUgHZDnY3a+Wn44Fw6aACrYkLlUJaA6uWsibJxoEBRbIaqpDWwKqlrEmycWBAa/JCpZDWwKqlrEmycWBAkayGKqQ1sGopa5JsHBjQmrxQKaQ1sGopa5JsHBhQJKuhCmkNrFrKmiSDS9eILSFMTB3vWEDPpLde8ZErfRw9xwJQQx+jz8DxRnx1ei4yxffAdnmZA2+w+P83v/mN4mryQ8U3HQGvGzr369uH9hnFOb7iktrDfnqzFqIydbxjERIqlSEp5bME/is9l19+uXx28aWXX3Jw+CAiU+iYOp5Y2xFTey+z54jh67BQ1VBG8Wcc+atKqNnlV2jb+DptlrOUX8LFNPvSZ//Uvy1c+acrS36CrJ3xO5B79Zo38B32KVeC/vznx1u7fv/730UDJa3pHlQMeuutN+UyAPqkr7hMccGZjzAmwUwUOqaOdyw/R4xrt3h8KcO6aGDT9dKCvlpE41PiIShQTKHLT03jrmkzO6R6t8tnCdH/K+laft2E6D7/xPcmhnnnLS8TRgJN14j9I4XxBjVYkT+nOAug6xZ2xOYjjEmuqdAxdbxjAYYqz5trgQU1qzAmwUwUOqaOdyzAUKkMCRSonJpVGJMcCDqmjncswFCpDAkUqJyaVRiTHAg6po53LMBQqQwJFKicmlUYkxwIOqaOdyzAUKkMCRSonJpVGJMcCDqmjncswFCpDAkUqJyaVRiT6DnikiJ3S1JySbqzzjpTNpq8Y73llluSIXLpQe105Dt69CXic+hhP1BUTf4zzvidbeQPp8+t8VSXH1p+ty5/Xo5Pt/IGcqdvfUt95DqHemf+JEDu0b1HvBu0zd3JLe7ZDPhMaVHqrXzUxxtGblNP+mYv70hlcvk/Tf35/c/Y0PLLHlIv6vPX1R/5d9l1Nzs9PQ99HnELen1mR1M5w/vvf0DvHNZruvwlng8//LDiXpf/yCOPCuuvt36gLzTqJBQCfxFrWlievn3M/ezff1H7wk9C+DSqnTHjkzBy5Ehb/lzv0ZfQ26U6sfw/Tf2Rec01+dS8nmb+3e/4x0KL1rn8+x2wf1x2bfJdZ/MQxiSkEMr3YGB566npzOzyqv/7H3xAz4AvKuNtEL2l7AOSdUrrn8gEt4zEHHXUEXSvxwauXtHNkTWkz7pT1T6zEVFAnQOx+9E3xjH+/Q2U7GYewpiUB3BSPQJaUOdA7Ge1/FMW5AVNFuaa/KhLx+PPjYa8gE5CJKcKb9IrePkHJ79qeerUqd4k/L9Tf74J+f7777eYdflTu1tY3fqfIUgwWZj4Qg9TcloTjLHGlJmz4xExn6Lr169fGDeOv8JDIcquUZ5K16H4Ky98w9IH779v4TI4CW+9+SZ9qUef7x08eLDh6phRo84LW22zdfxSjW4cBw1aLv+6T5YgReHHdLChYyrvYDasMcmhBQck+g0qN0ZRXFzXvfZqPD+dB4K/aE0wRtR8oxc/+4v2/uIXJ1gQIJEXtAIwhXvTFrWPY15zTWwbgqWB4Lxy9h76/CO/IYyX/1ZbbUU748kCaJX/t/SSjt69e4fn6ZvTfrKUrCSB38K1+OKLSbt22mknD63w06ZND9+kO9NXXXVV2nGrD/fnIHqTlU1ZAtMak5lNMMZwzPA3h3mscw7e4R988CFWKfQb1BwpFL+TmvHsl31chEBZJhPaw9FHH215+GMYZrLAykDPef9Fb3fr10/fBc7LhL+x3dKR3E855ZTQyy8TBHNOn6DPtJy5/Xx07ye4oN+g3GetE501w49Q7xh5+ItogjE1HrkKSOQFNRQApsiZzGyCMTm4RgISeUENCoApciYzm2BMDq6RgEReUIMCYIqcycwmGJODayQgkRfUoACYImcyswnG5GCS+DLMSiutJO+W33nnXcJA+oQt71PuvPOfgv138/P2p3fvXmGJJZao5K5ToKXIC2pYAEyRM2yunJpWn9wz07ksZ9M1Yl7ReOd6xJFHhKWoIPigQEql3vw+3HXobmj+0Psdd96RzCUOuS6ij9F3o6NV3sj/4Ic/CnzUI1PMP4NeRvHzX/w88LUzPhr75Um/tA0db/BWX331cMxPj6FT27+2I12OfSt9uvFU+noQ3zTG35Xl9uN/fvpOMr/16BcUl9/8dMMNN2pKN6/+yhBjy9mQIYMlPm+8+fvHvH3TPta7oP9sffLJp6gdp9NbsE6k6+abWv/4aGxeOr17AB1l8fO2N9xwQ30w0aZswtEMmqFD9MiT24aP2qsNCA2b6dzyZys/wrb99tvLchpAO0/boasrzdvDs88+G77zne/Qe8hXDGOfG2v5DeIY5OJT+9t9g75LTMt/W7p+/dbbbynK5X/xpRdlB8d37o8bP45WTP2ONS//rl27kv92siz5y0Q8SWyaaQ4NV54jv9ePoTfH8XX1E084gd4itiEtT/rBxzsl+udXme69997hlN+eIt+V1hsQQ3jjjTfoW85n0PI5OXyLztBgjIHyZxF/RR8Z4WftX6HPbPI0/ZNPyOd39Kz2KfKRhNn5mW/OE4+++WmC4+jxNz5jdD89p99q8suEf9Bgmfj+8zL5Li0T/rjG2LFjLRT6/zC9/pI/zMFvYNtwo42l/fgh0a1b97D3PtpnfoEN+vwmPXXAMo9J6bO0Pa1f21Gf+S1gvG6hz5Y4Msjv9ZnOLX+Pac2rN9uFo1nSVL3UliMyXZO/WrQONamWwtEsaaqOassRXnfVn/4UZqfLavvsu0/aJ1AYfmRvbnonBD+CaW8slPAplnA0S5pqfv5G/Pzzzyfr3Im/PMlFiF6f0fIv7YhdE401xjVKO8Afe+fncB97/Anp3cWjL5JfJvwhCH6ciJ8F/da3dqKjlWFyvXS//fdreQOORnS5iOU3BPGnAnnjteQSSwa+2ekHP/whvad4S/nFssMOO4bxdEMPe8lr/korvm702sJNeG8y4Xal08X8Wsv5qNgLLrSgfHaPjzbkn+QFF1wwzDfffLRQ5w7Dh/PpWtemkoRlIogcRkidcJr9Z/a2KljqqAtCLN+RO3uP7vKd3T4L9Al8Qxq/HIXbuhC1tTf9qOH6b73NtuVmloK7uM7COwquUWqbwxlrjHh6yff/wgsupO8M60cX+Jckf9CCj2ZXX/0rcnZj3333DZOn6BGza0KJddEj+0e6Hsnx+BLCliNGhEPpgwMHHHBA2Jg+v8jfcubTpFPpqJgX0zJ0Uxx2dInS5QoaF52bqvk5MN+nMNecc8m46EPjg+u/8MK8DPh/Ifq+9oKh17y9Qo/Ze4S339E7j++4/Q4Z87yM+vRZQHB9yWdhWXZ9Q58F+4Te9Fw930eAZ7E/+vADuc7N31XG8l6470JxbPaVsdmbxibf6MifqPT1Lw1T6a4sk2UHSU1kmWy7Tfg2lgldKuEPMUye7JdJ6v9vfk19pjzzUxt5nehLfZVxJ+1fiHR96Loy9blH7DO53nHn7bHPveULU1ybvn0Xpn8at8Rzn+ejo+856AeGf9Y5LZuUP/XH6QjopZn1vzZuUtZwLrqxxgjeS01+LaHUxBemUtkOjQ7tcMYaQ9/9/qs8bcMHX3xgVq7/VVf/SR7j40+zvvVm/OFeWWouXYl98IH7aSc8v6wvfA+Tfp875We4l8r5S+Gc6L2c2rFtzNNGyyYW6JevTJ6PKkdC8corrxavvfZ6sdZaa5qeTqEWd911V/H4448X9Eu5GDhwQLHsMoOKJZdeqphzjtkJp9Eldk0CrwL/5ptvFc8/P5b+ny/omdyCvmdcrLX2msWSSy4lP7c54r333Vs8+MCDBR1xF/MvMH9BO1P5p8IW88wzT8Qhoh4Gy4lsdJZi8JQQOa9WP1ekx3sreK7BxRddXOy087dnuf+IldPO5YdPGc3y1MlTigsvvqjYeZedC7p5S6C+P55HnETLEdXy5JNPFo8++mhBR4QFbciLxRZbrFhv3fWKOeaaUw/uZmH5c+QxY8YUHPutt94q+i3crxi0/KBiyOAhRddu3Wy8jho1ive4tux1DPQu5p9vgaIHjT39nfbpx1/qs+fq++8Rni+jRValh/2fjz8O/tSTTxUPP/pIQUesBX32s1iUlgmdnSp6zjkXVkdrg2+S5w1gjFo7xhj4P7b+oQXl1opc03iv8jziJKrWjjGt0eJX4+xVnkekKZMnFy+99FKx3PLLkcqPaCDqqcZKEYWLIq9THLNb127FYgMWL/ossIAESei6mGrtGKN+9EGX4gWK371b12LA4gNo+7yAjocaZ6/KeBKGrbpKMeahMQXd6FlsP/KbFLza/1132bW44sorZBtAl1CKPfbYnfj5Oxx/9CKngs6QFueNOq+gM61F9x7dZV8yeMgQ27ZUK6Ct822sYpKmjBbZOduO2OmSt3B0+pqak3XZwMZUfCpruCHgA6qGXDIwMU3+pv7N+GvWP7eFMNYYv8GQbcaXcfvz7jvjim2327YY8+DDxUeTP+ygn63qwmVSGz1lUJxzzrkF3XBbfPTR5GLwkMHFFPph/tRTT9IP3MHF7nvsQTuxPYoetFOale3PW2+/XZxz9h81/uSPKObQYjJRiU87OPosK8X/rsRPrWKuPOn2/9prri6+/vXtijnmnKOYOP69osfs3QlY7efdd99TbL75psW/7r67OPmkXxXXkN+WI7Ysvrr2OsVKK61Y0JnEgg8W+YDugQceKv7+99uKO++8Sw5GHh7zcHHHHbcXdPmn+PHRR8eGfD77HzqCKB02m2iMO4DO2RxRvTMuoQkZwTicz2xJMJxjvDXjm/y+HE39s/FQFprxJ4OlWf/8OsN8NlCcWNKX3Sqen936xze2nkrvE+dLFrz34fsSeMpb2Pn8t9B9MvwIIV8q4Pt89BSshKRLhxMCP6nStdts8iTKCy+8oIaaeav8/AQNX6rp04fjn003zuqlIw4xfvxEin8E3cNB8en96S+8kN+4mTqVR1977bWl76uutpq1JEek/vPLlO668y7BvU+1u4K+M7/P3vuE9ehekuWWG0z/y9MNk+vIfQ78DfpJkybRfRRXS/yVVlwpTJs2jXzz6JbUMTki5RdIZiQhyq3WP3fxLPMkP8iJc21QFpCSoayGrNTPvSNQCA25yY9K+GoJ38JQVkNW6uc+IlBN/bkCadQlzldL+LxkZi6rISv1c3MhBijVpayJ82jhcxczl9WQlfq5uRADlOpS1sR5tPC5i5nLashK/dxciAFKdSlr4jxa+NzFzGU1ZKV+bi7EAKW6lDVxHi187mLmshqyUj83F2JUzzex8Y7yoosvCieddLLcpNmN7hOhI3zZUfCpSeyIS022YMgHBWSm5513rtzI2IvuXeAbaNMElGrOpe+Mc07eYT/2xOMJ5rncRSx0eSjMRjdK8tMRiA+YUp2fS0+78I8K/nFBlzHJFyhNkKqu3NxzzyP4Pb6zR2pB7mL6vejmyaOOOspkwJT6uUL45ka+54Nv8OTXMPNUzq/I0hyBZ6IGzGeGDq6yI8ZeOiUns0NWAjibAFMAxI2UgBm2ZAYqYpr8rlgVVhUyd7am/lSMZvzpmpSNC1ZxbeJK1gFJ5XPgCqsKmTtbM/6oGKmApSqzraSqEZN7e+CbGvnmQt5JzU03Ym644QbhD/Qq4dNOTV8969a1u4vS+fxjn3uO7jjWN9dde+21FsPnT8oQ9o/Pga9IjwpNm/qxmKQ7WZ9S/ueeRfy2oPHZZhErDJ4zX5GOQqdOnUZQB3bs6/QEAt3ZITXhm3U9TITUAclxwgknhq233pr4jvOjQbvssivFbgtH0udEbXL5lXVzZ6vLbzE6mZ+b746Ik7twWTLWeEUsmVeZuyun2Y2JYZxsfiWmAvGKJr9Uw5fEytfU38pSZZrx13rg2AgSxmoHtVc061/rMv576x8/SnbfffeHl158ke4MTjU//3w9gtRT0111a5zMWEhEW+ffUB69o9faLh2/k+68KizFfvrpZ2TnxzmPOEJfrKS4+uXP8XmHudTSS1MzKIC1z5hs/Xv66adTfHr8NZucyz/+8Q/DHX/88QSrz4+2jb7kksAfKZlZfsbfeOONEpuukdOPDfdSEJcfcZXyvOP85lplsv6neNmOWL3MV9JFqFeKyimEVZnnzpJJ0IPGyI6oxduNNwZwpxBWZZ47SyZBD4pIiarF2403BminEFZlnjtLJkEPikiJqsXbjTcGaKcQVmWeO0smQQ+KSImqxduNNwZopxBWZZ47SyZBD4pIiarF2403BminEFZlnjtLJkEPikiJqsXbjTcGaKcQVmWeO0smQQ+KSImqxduNNwZopxBWZZ47SyZBD4pIiarF2403BminEFZlnjtLJkEPikiJqsXbjTcGaKcQVmWeO0smQQ+KSImqxduNNwZopxBWZZ47SyZBD4pIiarF240n5vzzz5dnynlH161b15Jb8jUfQSTpBnqEk3eo/P9zevStOqUYsLHmq2t/VXz4UbYP7O15Ka52uD3cFHdoGp93ljwlHDhQtYewdozfc645Jb63g7/8ssu07XSm4NfyAR1YkEJlnvM/f8CGX/Azs/yT3p9EbwdcLMw222zh3nvuJrz3cLxLJyDXL/Qfvjk0SeBANU6a66lpyGUUDvnJbiZj4BRpWV8rQxlpTlwSxATemZIqb0BZXytDGWlOXJImv1SgWf42xjBy0opgJmUMEPW1MpSR5qQZfygPStuMP1QinMc74rgjtWvEZiWmUjtvDGH7b9IrYKP/ddfF09KdGH/8jgH48StXK3liGo6PNwhedx195rW2PVCmxD87FvHp40F03Tib4vK/7777rA0/++nPMogJCE2Kc88dFbbldyv4SewAKd3ze3vKZQB+N4FMMMPvcxx/6dS0S4p2MEXbQL0NfLIlDjZQsVTMTtHkR6kyigqBZsYoJFviyjixVMxO0dS/XDKRUSHQOlCyJa6ME0vF7BRN/csla+pPFcAIOe88f0TsrxEnjOd8MT/86MPQnV68gh3qk3aTFqJzIsc758uvuEKOxNl3Q3qnf93ER8r8YhfEf+KJJyswiV5J0R6u4PjxBwKf2i5P7PLepPcUQ0fEhx16aBliNUL/f0JfEuPvf/upnP/WW2+VmPzpVHmpTYv+o8mgPib4ZEscbKBiqZiTIu2I4cE02VVblg1bNVQ1Bk4MgdyVjKQHVw5SloGrNLTadIN6psnf1L9m7NgQKY+3stwS2Iy/lqWymhHzOax//A7tkTuMDPz4SmWaxfyPPvYoveJ0I3rX8e0xZLW3VU0l+yz1/4J4app3WumIuJqtqgnhttvS1+m60HfgP57ycafX/wcffFB2WHxKnJ7htVfhaq80299v+3vE0FvsOP7HemNXTc/NDdt/xOe7wfktc9On06uMy50geSF6uxtjdtxxRxe2DFTXXXfdNZx66qkOl7MffvBhGLDEAPnU6p133pkbWSqHLcvmUTVUNQZODIHQfyjzHbEAYCLa4leCIVxWZZ2CQRCF8iy/yA2zj5fpmvxWmlrGFUtZp2AHiEJ51tTfSuHKw6WSiYxiNzmToE3UmZV1CkZBFMqzpv5WClceLpVMZBS7yZkEbaLOrGxS8AcveKe19lprhfcn8c6YbbNef3qzm77+kHYGv//977UNKV1st1MwAqJQns16frlGzEeOlN92xIhvqZzC5T/u2OOkFuxLb1WzdpXQos90tP19+eVX1Jdz0z/XwaYItvhkX5zjY0IwoTyr9v9l+iwsx8Vp7Yey+AgQ5KMyjKM3iiG69YMVimwP8oGSRfqFe+l0dqv6H7D/9yUnfxEtmyhIyshBMymDiuDMyjoFAyAK5Vm1/xKHZrojhgO04uIEi1gxeNCn55Hjs8TeAAAMLElEQVQX1EXIVU5yrIPPGotYoC5KrnKSYx181ljEAnVRcpWTHOvgs8YiFqiLkquc5FgHnzUWsUBdlFzlJMc6+KyxiAXqouQqJznWwWeNRSxQFyVXOcmxDj5rLGKBuii5ykmOdfBZYxEL1EXJVU5yrINX2EnvvSfvOeeNN3+28n16aUNlQixQB/Cqhx5+yHbCfF0xfV7POcwKiySgLkauarebtbg/tiN2+I7YHXbYIT7+00a1WCNBkQQ0WWyLzx/U4R0452U66txRDqUsx2c7HzVzrTs9UV6Jz89Ixxz8HDJPeZPa6VOH9wqmS1uX8E58n3tdnquuuiqs5l76UcbcSR8caqPP5S4xcGDgI2OZ8mQ1KgdwbDn2p5YRi2h+RGyRgDBFuTLJIFCHN9YYK2rStA6ngT0ypqpRiUX0zmisMU3+mhKm6kRjRmqsNaqm/lQBqYsrjrHGNOMvjq1Ukc9n/Z9AX/DijTLvJNZYYw261ph2xr4t2dBPg1o4HAnzTmbPPfeq7oQlkItmrDH/J8v/fL5GzDssakf3+Gat1NSUy5IlJnyVHuWRHSn5rrfeeslNuLpZisdv3cJOlvOfdJJ+kci8CLruOnpnNePovfLRlGKAA2UA+Dx+EU6W+LDGUNFhxAg9y3EKfYTFJoEmPH/r/IILLyRz0oH7iD5wsjQ9WsXtvOW2Wy1ElYGHs9SoxCp6ZzTWGGtJ0vjWaQ7aEdPhskM41loBHSgbwIMauMJ4hOcBbPI39cdYSOMqaZLOjx7woB6f8x7heaCa8fdlHn8TJ06QR1l44/uVNVaX1xliySttvfwfptOkC8y/AG242+jzqHuGGa5QGEmgeUwveYTngWmdPyHo8aULeEesR6Z8RIxIoMBWaXsYSEd/4ktHnfxlonyaeX75ARCPWPHGKuRlOnDgEta2uvgpH7yShtdubhv/0GF65I9/7I3Cw+sxegMXv7GLvwb27rhxmY2FI488Uj5/m1+jhncIh/3gUMnxve99T3x1NvP+IwIo+4EHdQFLrEd4HjDN746II0iId/B6dvY2BOs8NW9ijBf3KAnxFq9noLd1Pi+Q5k2M8WKMkhBv8XoGehuidp6aNzHGi3uUhHiL1zPQ2zqfF0jzJsZ4MUZJiLd4PQO9DVE7T82bGOPFPUpCvMXrGehtnc8LpHkTY7wYoyTEW7yegd6GqJ2n5k2M8eIeJSHe4vUM9LbO5wXSvIkxXoxREuItXs9Ab0PUzlPzJsZ4cY+SEG/xegZ6W+fyTnxvYhi2yqqyEV79K18JfNqaw+SRfJ52uRZKX3GT06G8E6a9cEwG2rncZZR5E2O8gKIkxFuUb3lEXE5QI/MnX2VnSju6TTbdVBEU1mcxSZTe0k7vne5qp7b5G+jlaX76NCd+JGy66WZlcyZbZGLAd6NXS8L/gP0PIDws7Br5SJ588okwYPHF6X3Rg8Ij9M1snl599VXZCfM7psfTu7LrpnvuvleeF16kf3+9TEHxfBaTROktkTeVMXVpZqozb2KMJy+3I85jeJBYSo7ux2EM6DzACqU9fh6apKqmDKkgSOF1Tf5UMa2Lqw5YoU39UY5yxZJc5So+pPC6ZvylmmldXHXACv3vGH/8PuFVVlkl7oxX051x6kLGjRnzMH2vXL9Lu+ee8Zow9QXdYvDnvfwvkMeX9FqqHBG7xihbUcQGt4c56WUc2NHxt9zznmRdN8FFk9diyhErXVvdZdddBOP7z/HxWk6JD2ehM1/+eO0mt5G/F88TQogQFdDRJ1bDPvvsF/jRowEDBtAPhW5h5MhvhjfffFPhAAptD1PoLu7ll19eanDDDTfURbc0YBACMjfI63z/Ve+sYIXOvP+cw3bEFbjPZK1JTAWfTMRlLUmWihoK9ki8ODT5U91quEq9MgxqCRqNEEFdzSvxmvpnFS0LlXplABQYtKm/VADlAP2cx99EOlpaeZWVZYPM1475tDUmLE+5JsxHwrRT2It3wgCUKPAldRThBdpKneyVeKX1z+6apnbpqenkW20DbEr5Ywa8I+X/bbbdJm2eXe86yt+T3nmNHfk225A/TR7P8XN7nt/aV1Groi5+9kvHAiQG+XmnnJ+KZkyeiE+nc9933XkXDQCz4bQ/d99zTzjmmGPCuuutG/j09Y200542nb4cVTMhf42JVEgAGlEQQQ3HO2JTppBe5e8Q9PqEVq5iKylKojiJrsbgVU3+VI3ElaufFr1ZSuCS2NSfKiA1qSmMVzXjL1UjcTbKjKnYSoqS+B8bf+PHjw8rr6w742H0GsSJEyZaH/TGLD3NKkfCNEL+W5a/7ohrbtaKra/UNyq4/TgtzTtL7EjZTSAVx3xbwv49+YharhG3hY033tjqJTEkvl7flR193FGX9ys1aSw/vz4Tjy9tvPFGmeu/W39+Trlr125hob59w4QJ4/O2Sweov9SHQw85NHTv3p1e/3l8eJC+wHTuueeGdehTiSNGjJBHoiI08/dCpX8lRUkUV9FFgx0Ra9Ay3Muej02oUWExqonmdRjqeP1U1nvZ801+qUBNSVBwNdG8DtPUv374VYrli+f5Zvx9kcffOLrRZ6WVV5KjuGHDhoXxdNp6zMP8nLDuhPeyu6P9Mvf857/88dEH3mHZXdM1TcIKryaa0x9/+xc70q1ox9L6aLMcUOXZ59AvNvGOfNNN4jVmLkGE87ua2cZtGzGCT33DRIBySDHmSjk1HW8G22STTcRfZx7n+QipUSEhm6ZNnxpWXGFFOW1+9dVXp7hu+zedvj38rZ12kvpce+01CUPcjBmfhG233VZeDMN8ZZpJfmlLHcblR8y2yBT0bBXVkieuKU9RZlF+iGmlYLn00kuLV159tehCeO6F6hMPnNjoyFvicg6GSgpiQrvIbO4SLzIoLnrLCQU20n875dc01FaSSaB5k7+pfzP+vsDr3yGHHVrM1mW2T7394S0Er/+6FYgbhqhhWzYxkG22jSsKuqmn2GjDDYtHHnukWGHoCsUbr79ejCPdnnt+tzjzrDMpbhcNIUlSJlbm2dTmwMr6OUNK+TMzbQBntv294PwLi912303cunXvVkybOq3T/Z9zjjmLKR9PEd/Nt9i8uPGGG316PhjrMH+3Hl2LT6bTtpoybjF8eHHDX/4i/qjKnHPOVUyZMkXqsvnmmxc33JjHl4Z20H86tV20z5hBiLZi+PDNi79I/FhlSYJM2uzO1v+4Y48tfnLMT4uR229fXHbZpdnyRwH+cOYfin332bf4+rbbFlddfbX00Wf5ePKUYq111ip+eNiPipE77iCmzuZHjpn1n+uvR8Sy19Zdt7F1e3Lsvomuv/4GXDeKQK810z01Vyv+6ykUtUt9nQ0YvWbB/uKnaxTxUbZY6u9zUCEU1+SXOvja6DIo1dRqm2rPOKsj19MwTf3TOI71otr4GlvdmvH3b4+/yZOnxIOYT7f9cZsiYdnbNlmZUEYqjiF8ZLz88oOpDzr+99hjD705eib+1Ygppthm4l8xsyK23lhhUqYLzr9A20lt7e6/vhQhWcxMCKFX717my0ecJXNMrQllXgK0dUnbeH55R3nq3at3Fr+aIPcohdd1K25/Ru5Ar7AsA3L3WilzIeHRRx4N3Xp0C3369AnvvPtO5gPsx1OmhEUW6S9tv+nmGwXDtnL+yy6/nN7QtnYWoywgpugzoYyshBdFG/tgD08DUsYk7QyVle0Qs7rpcaQYPXp08fLLL9OOnKyy7U6Y6CzeEokwgTC0MUtx6dcpHY4X7bwYWM0zDmZezGNiG/FMCNeFcLA2+Zv6N+MPK4euI1hrolbWnf/W9e+wH/6ooMdX0GSi1urIs8mt/yqxUiZF1/cfGA5Z6T/FvO/ee4qNN9m0+OD992X7M2yVVYpbb72l6NWrt4vO7GeTn/vqt4qatL7/tCPWI2La/nWnek2dNk3gnen/MkstXTz3wlg5xNlwo42kj9KnTuSn3UPRhc5YYNrvgAOKM047DSKXtqDvGxdjxz4vOnqOmOLfanZhWtSf+89XsGfrQmcf4vZ//wP2K04/7Yzoz9F5+nT1n0FH12uusUZx/4MPFJdecmmxw8gdapf/6aedWnz/wIMKuvmt+PCjjwo65U+5OCflk0nz0/uvi/6L9C9uvOnGYpVhw8zKEEVHH++qAXRO+rrxx95Y/v8fAAD//xuVw/AAAEAASURBVO19B7wfRbX/XjoESAIhCVWFUP7SRakBQwCRJlGadEREaT6C7/lQFLGgVEECoQvSEhAElKIgT6oiHQIEfCpIUwgdpCaZ/ynzPXNmdvfe5BKKvt3PvXva95wze3Z2Z9tvtwpheuBJ5sqK7Gctag/plc/8WagpuvxSkqwuqaQt6gTog8v8WagpuvpLSbK6pKK2qBOgDy7zZ6Gm6OovJcnqkoraok6APrjMnwX6/+Mf/xgGDhwYqqoK++67b1h5lVWE/8THPx5eeOGFLGLmn1lmTMj8Y/7kqVaZZ8AccfbZZ4WenkraOOeccybjDHDrb7CB+PGyrvWJNWeq/z1PtWC/Hv6n/N/97ndrGTeg+Gxn3JprUvxiyhaLBad47vnnrG3s3xTfwYvIzeIRPzpCYo4ZM0YAmb/Lv8EntS6r0LoXTAZMsVl9wP77U9sOS8qZ4LKwLNQUIVQWLzOaVpnp0UikN1jhJWLCT+/dNwHrYbr8cT109e+tm9Q7jq9X1/96rV1vxn+z7e+2226zQXjs2LHSbaY8MyXwDpkHgzXKwfgDsPxnn322DVgzMxDzat1xx53UlwbSJZdcsmkz8RtKZp/84IOWl2szYeLEzM7CjjvuSJgewZXxU7dq3v4epPgYxDn+xAn1+GEm6j958uQw97zzhMGDB4ennnrKjTn1/MOHD5c2f+6zn21dfllYyn/CCSeEPXbfw8WrlaFR0dfyw6lKQKgilYVvtfbeIHbDfxFWxRiXSOTqqC5/LGK9NKxprRuMDGgFRQORdghbWq29WKJbr+4xLpHWDN367+rf3jt6sfTe/3gQHjRYz4THHnhgFmfKszoY88Dw8TXWoDPj5ylY89TabxnORvw3ukdvIpGro4r+/zM3EM9FZ8StfhyJjfgn9qijjrLBbq655iLTNEYJpjVOzH/dddfJYIXBcvLkh+AqlGccnwdR/pf40yiqy29AY2JWIr+V+DqIV3Sg8BANpDIVy2+ukYkRMvW0adPCuuuuK+04+6yztQ0ZAsL08NJLL1mb99hjDxgSLfL/8vLLw6hRo8zelD8zMqAVFA1EAKEzYrDNjs6aAFCCWgvAqAFmUFh9yi6/q45jUatcFSUoQQE2qgaYQQtzFJ3VscDmqihBCQqwUTXADFqYo+isjgU2V0UJSlCAjaoBZtDCHEVndSywuSpKUIICbFQNMIMW5ig6q2OBzVVRghIUYKNqgBm0MEfRWR0LbK6KEpSgABtVA8yghTmKzupYYHNVlKAEBdioGmAGvf32O8KgQYNoB9wTxh50UGP+Z6bgzLgnfPzja4TnnveDcYyEgKCWF4waYAaFtT/7v7PiQNxDbZ9zjnhpuhYYGfL8N99ySxx0dMB7dspzABJ1QRwLwLnnnWcD1nzzzRumTaVBHLhIb7H4Ohg/99wUcS9gCJn8SXPe+eem+PPOF6ZOnZpwxCGGKqMEJWj0OO644yTW5pt/WjQwg0aYBL39jjs0Lw3+BxxwQBbecMTA95577gkf/vCHchyM3kF4NcAMarBMoUI6I4YR1LzqjELagXVLqUmycWBA62lNo5B2YN1SapJsHBhQy1ZnFNIOrFtKTZKNAwNaT2sahbQD65ZSk2TjwIBatjqjkHZg3VJqkmwcGNB6WtMopB1Yt5SaJBsHBtSy1RmFtAPrllKTZOPAgNbTmkYh7cC6pdQk2TgwoJatziikHVi3lJokGwcGtJ7WNAppB9Yt08MdtOPly5V81jZ27IFFLBLhRHRKHIz5LPBja9A942wwBhQOFsqYuqXUJNk4MKAWTRl/aXoOuUfcAiR4aXnjjdfD/PPPbwPepEn3WXTDggGNiKOOPsbOprfddlvRKiQB33jjjSz+fZPut/jKJGwpH3XUMdaubbej+CW0iMRimZ91f/7zn8N8880XFlxwwfC3xx5jlZvKoNPDvffeG/P2hP3p/q/lLaExyu233x6WXnppkZryu2QWKunKoEkGR2fE5QQTU8c7Fh5QqQwJFKicmlUYkxwIOqaOdyzAUKkMCRSonJpVGJMcCDqmjncswFCpDAkUqJyaVRiTHAg6po53LMBQqQwJFKicmlUYkxwIOqaOdyzAUKkMCRSonJpVGJMcCDqmjncswFCpDAkUqJyaVRiTHAg6po53LMBQqQwJFKicmlUYkxwIOqaOdyzAUKkMCRSonJpVGJMcCDqmjncswFCpDAkUqJyaVRiTHAg6po53LMBQqQwJFKgQ7rzzThuED4z3hDV0HYucU6Y8Q/eMV5ad9cc+tnp47tl4FulcHJu3NaWuceYjjEkOBx3TxPOlVlz+nXMuPSOGVZ0hgbqQxO69997mf+4558TQTVjomE4Pn//8583vF7/4RWqSWFOOvff+kuHO4fgtE6Kj/hKfzkp52X5xCcV3y5zxcATNkNPpsvEnJcapp57SklnVcH/tn6/Zw2+77b6b8wGCaeIv/vnFYfTo0UnlrHlk+LiQjjWrMCbRw1qFwvlkbHLxamhBvY3aLNfZWVfcKCe4eQhjUh7ASc0IaEGdA2ft8seCdPXPeggJJgtjUt6BnNSMgBbUORDb9T/U5f3rf3fddVdYaDBdjqadPR7M4pWPliljUrYCcWbMg8Rqq9Ng/Jy/pMtQ+IFm7rN0/ePSNLclPayFvKDt+e+8+844UPbkDx2Ja7P/NLrXiweaFh4yJPCZbz7Bb3q46867qMY9cvb8hXjPta/+P432z8OHDZcBcciQRRrip2zIlDTMqXb8+JNk2TbaaGPTibWP/f+SSy0lfmPGfIbhvU7HHHts+OIXv1hg0CrQ3NzX8gtaXKfrU9NZGBOMyaM3SEBiuUENCoApciYzm2BMDm6QgEReUIMCYIqcycwmGJODGyQgkRfUoACYImcyswnG5OAGCUjkBTUoAKbImcxsgjE5uEECEnlBDQqAKXImM5tgTA5ukIBEXlCDAmCKnMnMJhiTgxskIJEX1KAAmCJnMrMJxuTgBglI5AU1KACmyJnMbIIxObhBAhJ5QQ0KgClyJjObYEwObpCARF7Qu+++Oyy00EI0ONA9YZwJ9+IvJgSLO3kejFeNT1OvtvpqDYMxhgOi0RfUUllM02RMZjbBGMGefvrpcjDBA/Fss80W+MEkTEAiLyjsOF743JjPysDDl6lfevHF0qwygpHTr371K8HzJfozzjjD8CUDlzFjPif4AQPy+Mhf+iE+L5PFR7A2pyLIo4/+Lcy/4AJhwIAB4S9/eUSsbctfuIaNN95Y2rv8CiskU0v+vfbaKxz+w8MTznFwQV5QgwBgipxhc+3StPrknpmuliUPWpdSLOFoljRt6ByhUtR1+etF61WTaikczZKm7qi2HJHpuvrXi9arJtVSOJolTd1RbTki03X1rxetQcP3ABcesrDsaDEISx1pllc3d85qHU38ANfKdJmaB6TVVl21cTDOo3gpZROOZknjccqrLUewtNeX9rJ7tfyw2W10z3LGphRryrPPhsUXW1xqwgNL04T8L738clh++RVk8B+14Wg6yMCT1ile6f8cPXW++OKLSztT/IQXjmZM+anlFZZfXtqy4YYb2tUDResc8TNd0f8/9alPSYyfnPATwAuaYglHM2h+euaZ4ssHNq+++qr4qQ0IDfXKq/8MAwcNDP/7pz+Rc24rkjWICS8czZImwYuB2EGMNUa8vIQ2ic4bUvzI9Wp0aIcz1pguP1XAV6Orv3YdqYkvjOtRDlHT1hUuiLHGCNxLXf1ddX1haoXt1ejQDmesMTNVf/yM5aCDvkZ+eQyXsGAdzlhl5HfGNAjz2RteOvFurP+//e1v4eSTTw7jThgXjjjiiPDNbxwcRo4cKWf1nBv/g2hg4N8HH3bYYeHoY44J408aH84592fF8kC0hQk333QT3S9fSAbYcSeOAyBSxfHZ9taf2Vpyrb32WjJoApgipTFJdNFwo8TXh+LGjUN87xXobH562HoMxafbBWuvvbaL73DGGiNN8NIZZ+hAut7I9fVpbjSyRr1XMr499e2w7LLLynJOlN9HO5yx0wNfjdj805vV8s/K9V8MxHmXtbaktjtOrb1jErxEi9zg7FWeT5HAqbV3DLBYroQWLokG9CrPG8AYtfaOMXDcFSS0cEk0oFd53gDGqLV3jIHfUf4XXngx3HrrreFXV/wqnHXWWeHoo44O//3fXw977rlnuOmmm1OSXriytSI3NN6rPF8PrdbeMcmrRIvc4OxVnk+RwKm1dwywXf8rqyVyQ/G8yvOpkuDU2oa58cYbZQfahha/Bmev8jzH4XvE/JvZv9Hl0PoaRaZmqrFSROGSaE5XXHllmHueueWFI4PpsvoiiywShtF9VL5XO3xRpYsSP2zY0DB06FA66x8iD6LNv8D8YYm2l3UUrX300UfDJ+gNWHyGz09C88Nsb731lgyIv6TL0auutqpc/t5t993dIGlNjEy5RMnO8fkNW3zQsO2229D94zvDmxL/xXAFx6cDmh46C91jt3p8XxLPp+jKPf7E41KjeeadN/zp4YdLc00uWysyzc7jn2fRAcH6668vPj4n87zOR4xYNlx99a+LmIr0+AKQiSVaZOdsA7HTZQG4w5VBooJwbV5teg4NG6imyyXVwaI2hzDWGO9AfJueYbCBqmsuqQ4WtTmEscZ4B+Lb9AyDDVRdc0l1sKjNIYw1xjsQ36ZnGGyg6ppLqoPllFNPsyNx7rR8aYzvu/GGNnHiBA+OfHu0/uTXaC6mscYUbWjTMww2UHXNJR+u6/9aG1chY43xBXM1LtQiwgdUMbnk/br6a21chYw1xheM+DY9w9Q2bdrUcM0118pbsXigmZd++rPIIkPl7Hufr3wlPPDAAzFm/+o/jS5lW/xlR9BPiwbIQcXIkeuFffbh+PlPnNpb3Jx/qy23kv3P0UcfFdvpSXs0LD8oP1DFV014X/ajH/3IBwmvv/56WG+9dcPX//tg0ruYxhqT+WXYwpJsuW8PG2jHSu2IEzdJRGNgqdEcQfebydEiZUYS+PiL/ui2ND1c50NlQAJ0+T9o9X/yySeru++6q6KXG1QTL7yw+vXVV9sKnDBhQkU/QSC5W/9d/++2f9u12X6MNxUSuv3fLNv/X3vttRXdG67orL76w+9/X80+++zveP9z/PHHVV/72teqrT8zptp1t12re+69u7rg/AnVJptsUo0fP55XYm3KVvE73P/RQMxDI09tYYsdrIJ1nruYpVRDVurn5kIMUAiN3VqXH5Xw1RI+L5mZSzVkpX5uLsQApbpU9cSxhe6rVMssvUz1+OOPy/HC+RdcUNG7ZtUpzvNIKbLPXGISSoOkrInLkrBQDyKQUg1ZqZ/7iECpLmVNnEc3JoqAPFJqps9cYhKqy88VSFVPXCxvIvUiiq1UQ1bq5ylUV39USWuSqp44X63GQkdAHilV1le+xCRU3/npHdLVt7/97epb3zyk+sgyS/fZLOTqK//jjz9R8SD/P//zP9WA+QdU226zHQ3EG1FfdAeYPhsCex3xpRpyb/llIMZZalZyeFtgF8bZJK3IfLpLYDsk5NaRIh4JstQ2vVf5V1ttterSSy+tPvKRj2RNea/yZ0mdUOZfffXVql9cQu1cWtupZXXzrM5cYwrGlxkyPSdgG+npr7epzC9YF0vZNB89anR1/Y2/k/AXXHB+tePnaSB+D/PLRXFbJmqXNO29W/4uP/WQrv5xk+r6X7f98fbwDvc/6Yw49isQ2blBYOoVccj2KoO64dzsxsQwTja/gqlBvGLm87/44kvV4IUGVw89+FC1/ArLUTLbkxSJo+jTicorZj6/5ZMwPlae/sUXX6zoqcbq4cmTq+VWWN4Zvc+7l98S+nTF8m+xxebVVVddLRU8f+KEascd+NI0pg/m+p/R+mMpsu4uSl+Q97f+vBHJUbpvkmu4HcGb3Zj3bfvr6h/3N7Iq3Pqw9VYwNYhXdOv/363/1y5N56s7bj5eWe6UxKYAnvOUhrjkCA5UkX6uFm833hjgnUJYlXnOU1P+SQ/cX62y0srV5Icequj3awrM5ikG/FVDIGPg4BTCqsxznuDvHeEBqkg/V8uk+++vVl2Z2vnwQ9Vyyy2vsWpOTiGsyjzn6Z3kd5HTYnslxfcD8QUX0D3iHXeQrO9Vfl9XbaQ2sMvPa//dX/9d/d0GIWzX/7jXddtf/7c/vTSNjdf1LwmJa5YkmMkYTWrzUt8oQxlpTlySGHUW5r/8sl9WYz67dfUQDcTLLx/PiN/D/H7AsAVtyH/5Ly+v6IPW2s7lqJ3xybYINVerOxgDoHZE04gc/QDKE0ObVjJikKUh/xZbbkFnxFcJyB7WsiDwfffyZ8sV09Xb3uXP6iTrBysp0pzU+9Ys3P5mtP/nbaYGNvS/DNOtf60AVm2v9QAoX/HQ1rchsnT1l4q21qjXesNIVAIgSqSe2KVpt9E5d1s3COFt4JMtcbCBiqVmdop3Of9OO+9cTaAHi3Qgxhnxe5d/Rpd/F2onPwD10EMPywEDWgiKenqabInzdubFUjM7xUzUf4sttqSB+EraH/ZUF0y4oNqBnprWMd/FKxowK/MXoa2P1keShOzy0z61tnqcYibWf6qqcilK4hoxNbNTdPlt0PO1Q4VAvQ18siUONlCx1MxO0dX/fa2/uzSNVUbUrR/RlrJB64a6xsCJIVCgvULLs2izPP/LL79c0Q/iK/pdWPUQXfJdftnl39P8acEj17L82s5FqZ2vaTvp0rRMrUWtG+qaWnap7zup/xZb8Bkx/4QpVBPoHvHn3T3i9yJ/WqJ6tromoY0j0DtZfotT21DqXTdhHdfl7+r/Hu7/XM9Ttut/H7j+lw/EsoLowABrruUoCWa/HyJX8tN5zS5qnvGOiobfCCvQshfLHvKdRfmPOfqY6r++/l+yYJMn0z1iHuBoId+r/Jqo7+W3dlKd5MzdXZqW4pUztwDKOgVjIQrl2aypPw/EV9OlaY6IS9OaSueSSJNpZxI1z2ZNfgmkwTS+xGW2y28F8fXp6k9l6fqfdon3fv87o/s/xr0b+/9/hfw6EBf7L78NM5/26DkrpncyQ15QFytXOcmxDt7KXnnFFdXWdM91+rRptD56aICbTJd8izPNhpi5ykmObU06owbEInrFVVdUY7YeU9F7XsU7f6gMQDI5dkbTtOIQC9QBc5WTiJV7xFfTPWLiMRA71xlnERbUeeYqJznWwfvHIhaoi5KrnORYB+8fi1igLkqucpJjHbx/LGKBuii5ykmOdfD+sYgF6qLkKic51sH7xyIWqIuSq5zkWAfvH4tYoC5KrnKSYx28fyxigbooucpJjnXw/rGIBeqi5ConOdbB+8ciFqiLkquc5FgH7x+LWETzM2ILB4Qp2gcAgTq8scbY2JE07eE0o0fGNjSoxCJ6ZzQ2VFdeeVW1/fbbV6+99potCO4RG8wsnmmwFir6Nmf161//urrv3knVU089Xs0x51zVkksuWa233nr0P5KecUgO4EA5k+evvPLKagdq5z+pnXw1gm0P00Nly+GAoXRgGZMEctGMDfQmrBeq399yS0Wvq6v++te/VvQu2mqlFVesVllllWqZESMkF8Lk1IIktVNtSWfEV+JhrQsm0lPT2xMuXkcxnDG2rEmTL39KAi5Ub735VkVfi6noM3TVs0yfmVJtTnkHDlwQIKEvvfhydeedt1VP/f0f1aKLLlqtsMIKFX0BhmwpGzjQF154obp30n3VE489Xi211FJSi8UXW8zFBbJ3lVgFGuSePvcHeg9x9dIrL1eLDR9GPz/7f9VnttqqGjhokK1XXG0qM7z15puyvM/S8k55lv6nPFttvvnmtLwDtRHRgb5aU915xx3V0888XS2zzAh6ucqIauEhgwkza+tv8VCCssGZ3hmNNcbWRNL4tYNAnnpk1DeoxCJ6ZzTWmC4/FQr7lbb+56vfuHZSORugzmisMV39Z6T+/IpLfEWCH9zK34DJmqTzNvCgimyae4TngZ21+el3uGHfffeVD3nHizDcI/Sfrl0OHjxY3nm6yCJDjPJHqYfRC9R5am6htpVtb7/9dvjWt74V5l9ggUADb9hxp53DePpayg9+8P2w6aabhgUXXDAsscQS4eJLLlanLGKKjnbSyzukbbSBxDbKCC7tHEovfB9K738dQv+LDF2EKMlFO1PEmI4IHSSEI486UnzXWmtNepfqQeGnP/1p+O+Dvx6WW245ybPddtsGejsWoWe+/jRAaFupzRdMaHrXdGpLXtGm1ub5T6UvnXANeZ1xTXQdUk1o3dFVAgt86WWXhRVXXDHwt0R32XXXsOGGo+h9tvPJy+q32mqrMGnSpIhNOW+/47aw1lpryafa+GX0jFtoIf1SzMorrSTfX01oS2Vr0NvA/+l//xzWWWddaS9/zu0Y+hLOmfR5tYO+dlBYdPii9BH3OcKhhx4aP/MGrxT7tNNODQsssKAsq/RTPYKTeHQwJkD2uuzyy8JHaXnpQCPssssuYRTl4uVln4033iTcffddKWjG+ZyeByivfzNCsd4GHhTR6tQjPA9kl//faf+LtZqoX+eeB6Jb/7z+3Rkxb9NxOHBnc7SdOz2xkJntxxSjSZjsfgDiCsBQlGHm8r/00svVCSccT360LPTH7od+51CiKhzw1a9WiwwZYvlnixj+ify3v804dm3O/xidQe240w7VpPsmVcf/5Phqzz2/SOB8+uc/X6N3L+9QXUGXxL/8lS9Xx/34uGreeec1ECK/RC8Y+cm4Eyqf/9BDv2O4r1I7hyxC7cTyT2cTL9N0bachc+btt6dWo0ePqoYOHVadfMrJFQ3kGeB1OpP/1iGHVD/+8Y+r+QYMqI484ohq//33J0xsmRC0kl29XuUt+alpujTNt/AnyO+I/Qs9GNM+WWRimtb/jTfcWF140UQ6C36uuubaayp+wQlPvEom05PkI0YsXX31gK/Su2Dvqc4997xq6aXTK+747PmTnxxVTZ78YDWE1vH1N1xfrfjRFcX/6KOOoXqMr352zjnV+iNHymJx/mlTp1af++xnq1/R+qLvklZnnH5G9YU99+CM4te0/LBdcskl1Af2rOadZx56H+3J1ee2+Vz0UfIynRlvv9321W+u+U21xeZbVueff161IJ3hSuS4/DffRMs78UI5C6aX5NvycgR+sHDEiGWqA2h5772Llvf882l5P0wWbZsu7yerh+jlLzSYV1f/+uqKPv/Hrq1TX/Xvrf9bw602rWlaDV3+uPbi+kcvy/uZVYnqGHlTGdNa494M5k1M0/bXrX+qXsv+/13t/zguKWnt2IUUXlc/inNWsELpiKcM3qApITUfUnjdzOSPvZn7YKBL05TKRyozq1wifn3V1WEQfZZszrnmDL/97W8briIkj6lvTw377ref5FtxxY+Gvz7ySJEkYb2B20cbJv33ZGd/giEX79W2/F+hL6ds87ltNKw4NNefBh9pH/c6PlsuJ5+rzK9nxNJbw4QJF8R2OQ+wQpvzl/lKmV0fe+yxQAcx0k6uy2T63NnB9H1WXsa33ppqLppO5/fdd58uF51Zfmz1jxFmOn2n9dwwevToQJeko49iEYBuXdhZ+HyUj945m9VacOTivQ4++JuSh9t3+x13SB7EMyA5PPnkE/RR8UGCXX311elbrPyBdR/JvGR5OT+u5HBfPfhgXd6pb72deWH9Y3np557ybVX+nJ0BJU3/659apk32rUZ+xqjeWcEK7fKjHKmedU2yKVdDkMLruvqnimldXHXACv3X6H/uM4hofVxAv6bTMhvXtHhmtC5TxkRsIJO9Fm8W5k8DHA3E/O1KS2sMqRIvrXP5n37mGbqESR/TpsHgO9/5jppLPBYpWplsuumnxGejjTZSK1KAuhicn+PLP+1U6SxHfVrmtfYSjr+d2UMD0OjRG4bDD/8hXUannbKfkJcofVGJLm3qIMeDyXPPP+eRVCOAczVLuDTNO396WKsOsOUqYkAENRyvElNqvJh/lfgxdq7LaaedFuhBO7n0XsO7VtALW6iOeqBwww03BLp3TN+QfTStd0tlDN1i2NHqf8yxR/e6/Ndff71gefm/8Y1vuMxgEVfpGWecEQ+wqF782UiYE2PLT/fv5TI8L+/pvLx0KZpvNZSTX36uCfrO7373O4IiAWj0hghqOPYwpYJ7Wf8MqOFjiugcpTJmqU72Wrwuf1bRUqjVKwOgrqBF3U1tTH19dvXPKloKs7r+Vbn9ccK0eoh3K8Tr6w0rNAW4EAUsugaDV82K/Ngp885Kz4i1rTOaf/fddpOd44IDBwW+t9s0+TZj4W6++aa4g+wJdEm05lbmx87Ut3Nmlv+Xl1+u+WiA4BhnnnmG5ay1jyzrrKv3Nhl70oknNWKb8m8R7xHLQHyBDsS1+IWiECWX6BoMXjVy5EgZxOiyEH34fKnwm9/8xtrpGe+zLd3/5mXi9vEB1A9/+KOsT8PP56dL9HFdVYFeUAJIrf9PnTo1rLLyyoKdi66OPP/c84L1+UvF1KnT5JkCbhMPmhyDJ59fFDRbf/2R1o4ll1oy0ANgMDUuAxv54+6yvBSffgKn+KJBhSiYpvxs8Nim9a8J8rn3EUuhKMQEaTB4VZc/VSNxee1ZqtkKRSF29UfNGgrjVe9V/7MzYlkztdWZNUkhfu7NplelzZswbnA3N2FKsJc9H70aVOiSaqI5/fEOmXfkPCDLAzAzkZ8+iWVnKDvttFPvzXXLgPzDhw2X/HS/N9B9T/Vvyc87U92h9jRcQteIWQMK1eWXxYE4xjn2WNopFxhtoir33ntv2+l/ae8vkakEeznxGIi5rXSPOGsSYiia5skt4VqWvw6eTgPT+lZ/fjgum5piU8Ivf/nLtlzcxilTnsncms72Tzv9NPPZ9FObRrxPoPy4E8bpgQHF3Wh0vNKRRVeczWMI+n4qxe8R32taDiZ4+Xl5cWl6ySWXcJFjIKdBbbG87PcNunTPU5nfuzUtv9rLHF72fIzWoHKZtRVNmJlY/6ndDYEaVF1+LYrNm2rU1T91q4wri+Vlz0enBlV/+58MxH7U10Aug7Aq89xZ0sZuC+OtpowhW2wcM+sYRRZxU9/CMsP5McAxpQdgXMOU7S3/2muuZYM4Px2tLYl+Quoan2CbbfRshXN/85vf9Cbjkd/O3Omgwdop4TUHz+vZkubtt94MfB+SDzqWXXbZ8PQ//qE5xDHhkPhYesJXD1CqQD9JimoBAxITqi8sm28Rn5qmPBPpHnGa6jnEJo4tNgJg+TUOsqi0wUgMxD3h05tt1uvyozpjDxorgyrfV16EnjgXp6yPaWzMOf/5550nAyWvp3XWXRum2vIvtvjiVrPvff/7hPPL5fkUgiHf/973dKCnmp04bpwzUgTXNjkjJgyvl80227yW32dQfnoYOzYt7wH775/FFoGBLkcJ8Pk1ocsiLDLF5sQASYuIzg8qpqzu8vuKZHxXf99vpLOk+ohJ7YUlbnlqUwfPpxD/Cv1Pz4il/boQxrYsk1u8jGW4uWRCBhOhZhZH9TZWxbpzi4bh5pIJ9Gwv79hoBysDMT0AU5ijo3rLPAL+QQMZ33Nlfz7b+O2117Zk1xAaITYkCl//+tctP9//4ymGF94UpNU26r3NhybTveyZmHzMRx/5mytGPQiwJ514IuXUfJ/adBMBSrMBqLuKRs+ItS4TJkw0P/FlqQ//mlkc1dtYFe2MmOv/n//5n5Kracbw6BLGHniQ1pLWG/+kqJw8VmykOO/8c63+a35izRTMOT/4wAOC4QGe63b+BeebNYuZCQqZOHFijF+Fr/7Hf1hbkR8JR66/geF6W15LTMxBY+PyUrv4p3uzsv4+T298tsiZUPeqmVkRK2KsMHXfNk0WMxPqHjWz5JKZtqIGqMcoNZlLJpTIhtUjqWXW5edy9VG/ekULlz78a2Ypvczet/pXmt4vmtcwH+WcmIOqW4xAkTm/uR3xhVbhsLHEfJRzolCzthgjSgY4GUxxjzji+8h/0UUX2k6RY9xzzz1ozQznP/roozVGzP/883xPsTk/2sk0Pd2dLxs80QCVcwxsRsk8dfpUuSx/Od1H/ulZZ4Zjf3xs2HyzT9vybbyJDsSpbezNcfPYLPlL0/QZxBqGFPlETv1d//6e6cnFFQlOoq3L24gzRD6A2muvvQTUV/7zzj/f1tMnPvGJ2H6Om2KfddZZdFCll5d5HfHT5vfce2+499576J/oPczr/31M74s86cefMt4uaW+5Vbr6EKPHfHSPeIN0j/jkk8dn+RlU4lkeO/ZAW4/8RHltIlBfy598fAbmo5wTg6u6xQgUmbv8sUZSE/B5VbRcsLHEfJRzolCzthiBInOeKeILrcJhY4n5KOdEoWZtMQJF5i5/rJHUBHyqCp0Rq1LmsKOAkbaoC1S7mPmzUFNEVaZP8VrUCdAHJwMc7TiZPjyZLk1nAVWQeaYP4bjjjpMdL/vxWdDDDZe1+0gtlyF9/gcm3d+aH3mY0teXLHTRLNP3xTz11FPheFqG9TfYIMw///yy/KutsmrYf78DAv2OmF6EsYvtwDfaeOOiXSl6mR9PTXM7m5+aTr7MZf4s1BRRlek1BrcddTmd7uPOyDT2QL1Uy35fofvFWdiW/OfKpWldz2ussUaWBv5HHpke6OLYa6+9tvwsin8atRH9j96Q/j2N+g1ZF/832Whj6hPpwTgUQ3LQbAO+J06x+Yybn5rmCfmzRjmBDzz0LL2S++POJGzmz0JN0V5/DpDBJeLMzTL/Ln9RUK2OzLNCpRq3qBOgDy7zZ6Gm6Na/lCSrSypqizoB+uAyfxZqCrpqazEyo2mVwf0dwvQGK7xETPg0+jfheg38DvPj8iufIfmnprN2pIaa+pBDDrEdHO8cH3zgwV6baY6OOfGkk2SnKjtXyq8/L3EAsJRfd8DpEjpMdn+NMA3NNBiYJ556MnzhC1+Qt0xxzA02+GT42dlnh6f+8XdAhJ4ol6Z18NmYBojWqah/9jvi2sNaeZTU3v6t/zQw0c+XTj1thpb/wHiPmJd97y/vHRvUe/7zzuV7xFr7jxUDMep/yDcPMQz3qYf5p3B9TDO7/OvzPfHYDv65lkxF/cuUegVAbzHwg1t+mtn83tf4PvIbroHp8qMovfe/Xjt2V38tInWm1J9Q195pwn+w699waToumKz8tBjl4rZbCMlG/JeOIkdvIpGro2Zhft5p4oxBXxs4Y/mPotdEYqfI/rfeequ1s7XdjGBj/P/J8cdTjJT/7rvvjkYlPg7uZXMu/R2xtxLeTW0WeqNXmH+Anv0OGjg48E+a6pN6nziO7xHr2dfGfEbsp17q7y9NN54Rc3j8+5jGx9YTiZxZjIn55alpaiPXxAYmArX6kS2dEfc0niGat8t/Hp8R04ES1+PjPBA3LP/xsi61LYy77bbbrLkZw43Df2aAEFvv8sOiT01rO/j1l21TjCBmuxRPbZKBGLk9KAsUDUTaIWxptfZiiW69use4RFozNNTfL0KrH4PYiH/vZHz0JhI5sxjT5adStFanF0t0Y9dW92gg0g5hS6u1F8u/Zn67NE3Nb1zuvBRRghJUnP1MDTCDGiJTOMGxwOaqKEEJCrBRNcCMwZQHRDkjhkHwKtx1111hZ3pvtJ/olYQ2EHOMa6+9Rs3wB/VOwquB59897DAXoyf8nZ9kzvySkNqZLk0nKweeHu6+6+7UztwYLqP3L88+++z6c6khQ8Kk++kyuHgJSbPoJ2fEcfCRgbiIV/dVwOb0NC/a2jgQxwVEOFBrQKZwgmOBHWmXankgjgMTcKAAR3rQQe6eaXlpmjGZnwoyENM65uXyl6Y99KKfX0QHBHrmybir6W1rzZN6wRfUsJnCCcSm5aVL03Qp3llTw6GMtDYQz8L6I5W2PUpQgtqCgVEDzKCw5gvlrI4FNldFCUpQgI2qAWbQwhxFZ3UssLkqSlCCAmxUDTCDFuYoOqtjgc1VUYISFGCjaoAZtDBH0VkdC2yuihKUoAAbVQPMoIU5is7qWGBzVZSgBAXYqBpgBi3MUXRWxwKbq6IEJSjARtUAM2hhjqJa0xkx0KDmVWcU0g6sW0pNko0DA1pPaxqFtANLCwYNpukhKA0H7PW/uz6svMrK2U76r3/5C+2Y09nshRddJE4zk58fnkF+ei9yXAZkdelIhTOy1E5bZGN+R291WoleKOE8xfb000/b27/Y/1QMWmJN+TSQynppWgcWuzQdofyqxKn0gYumaTN89IEG8YkX6FPTHldmK9vqZcOCAY0B+SliXM3AGbFCCqBrwIH8cx4+wKB/vVRbYpMMTi5Nx4MSPxC7sOEfVGN6H7WtzzN/eqY3G4+YpshHHlInhHGR8ZemcY84xVFOoeYZZHlpnfN65+VNFniWmiQbBwYUrg1UIe3AuqXUJNk4MKANeaFSSDuwbik1STYODCiSNVCFtAPrllKTZOPAgDbkhUoh7cC6pdQk2TgwoEjWQBXSDqxbSk2SjQMD2pAXKoW0A+uWUpNk48CAIlkDVUg7sG4pNUkGl+4RW0KYmDresYBCpTIkUKByalZhTHIg6Jg63rEAQ6UyJFCg8nuv9gUfgSUsv7Zw5WyAY9t0+cIPBlL+6pI1SawpRzKkmGxdZ511bMf9H/5nK0V+xnIeDDr03WTSIBbRyNoBg7Oy7+GH/8Dy8Beapk+DL1vTZFpivve976oPDUDp0rQi9ttvX7GrJ+ngSJR/R4x2phd6OEBKV+OA0ngmORx0TOMLPeIgIwMxzGJ1bq6B9TPEhDN3YUwKOCPm5dKBmG2wE43sOmvT+qR6MW73PfZIgQEw6kyOpY9uhCn0ylSFIX4CbODerGVXABgMKCi5gMXvpnUgxj3xFNNz8GnLn6IyEmiijkU8qFSGBApUTs0qjEkOBB1TxzsWYKhUhgQKVE7NKoxJDgQdU8c7FmCoVIYEClROzSqMSQ4EHVPHOxZgqFSGBApUTs0qjEkOBB1TxzsWYKhUhgQKVE7NKoxJDgQdU8c7FmCoVIYEClROzSqMSQ4EHVPHOxZgqFSGBApUTs0qjEn0sFahyN2SlFySLmuoV0c+/VC9uFFOwSzee5B//gH0ubh4tjMpPrVc5r/00svkN6vlYlx88cU2wPH9u3xCFNDcSt+OlY8W8E57gYELxs8OEobg5iGMSgMGDIjt7HGf8dOYwF966S9cO6GdHkaNGkW+eva+cXy3dV/1HxM//MBvHuNP6flpP/poxffoJRSYkInl7GEtede0t8KDllHus7Hc//WPe8Q8yOCM2GWIbJ7/IJwRkw/OiDMECSYLM50G4vTzpY+t8fGUoshwww3X62/L6UoJv/lKl9GiZX5Ny/+d7xwWdtt1t1p+OK6/AT+spVcpTjvtdKgT3jTMaF77+RKtf35KHFNTfrGRm7VYGJPgWqPNCGhBc7cuP+rS//6PiiISZKXQghbWWbD9IWJLhmhusXb5rT5ZhUgwWRh6hwQjTZkJmTYGbCZAou6ghgbAFDmTmU0wJgc3SEAiLyigy3xkGRlMeUC87rrroDbK/nyZlr/zmoqBqCFsv912duZ4f7zvas7EAIm8oCeffErM2xNOOeUU75Lx8OdL1zgrvu6632YYCNZOKIiyP3+bFzvwXWlHn01IkClDWGqppXS5qC7lhyn23XcfOss+vPBQET9f4nryCz0QHssNas4AmCJnMrMJymQPL9G3ipsmuCDvge7nS/bwUpNj1LE/zoi5/vKwli1V3XGfffax9fTzn19sSOQHNc/YwBeffyEMHDgwXHjhhWZiBu1nni9Nc12bDzwYUZ/SU+I98pR4W/66p2p8/tSYTNvmKnogkRfUnAAwRc5kZhOMycENEpDIC2pQAEyRM5nZBGNycIMEJPKCGhQAU+RMZjbBmBzcIAGJvKAGBcAUOZOZTTAmBzdIQCIvqEEBMEXOZGYTjMnBDRKQyAtqUABMkTOZ2QRjcnCDBCTyghoUAFPkDJtrl6bVJ/fMdLUsedC6lGIJR7OkaUPnCJWirh/5d6UPx/OOjf+PPuroxvz0Xdlw+A8Pj7Y8P399aeEhC8sOcqstt8SvWeqNdxp+cceHP/Jhyclnq3x2IFFplkdPTrvyxyXQTnoRCCbF63xP+llS0wC51We2sh346qutBleiKZtwNGN6Lb0ljH8aJG8Oo5y4L6ro6WGbbbYJF9EgwxN0KkwPm9DLP3AP9pyGj1kIzmbqzaJwNEsaAxmjtoRYZ12+tK9niOPpp2AzUnx+zaPUkc7099zzC3nslvx4WQf7rbEGfz4xTVmbaD2+/PIrgT/IwDVYgb6O9OqrryZwjUvL8g16xemoT44K03rpw2vbrYyecNJJ/EIP1CvGafCl70lLW3gA1ysAvhEpv3A0SxqPU15tOSLTNeSvR/GaFEs4miWNx3X5uQJam7xCma6rf73T9KpJtRSOZklTd1Rbjsh071L9i4HYNcBYY6TVXkKbROcNteXr1ejQDmesMf3O//vf3xLmmGMO2VmtSq+Z5K/h+Onll18OgwcPDk/Rt2NtsrTKXHvNNWHhhReWHfxh9CQ0T23L//rrr4dPf1rfWrXaaquHRx99RPB9zf6AdtIOdZWVuZ1TOYu5vfzKK2EQtZM/YciTz3/VlVfp4Ei+PLjmZ/4pBvv94+9P05eMlggPPPhAkM/ukQ9/CvHFF/RLQvzN3GWWXib8hR5W8/nZd+r0aWHEiBHyZDYPWoceeqi2ME/BUDf1amzGkcvb9LDY4ostagcnfO/XR/LL7w2b0TupcUDDv6Eul8ElNPbb3/62HcgMHz7c3WP3GVOkW//wh7DYYvTeaarBVp/ZOvzz1X9arDozXV4OM3ihwYEfAGybptJnKxdbbDFrOy9vyqhevjVY/k/jKXY6MOCrFfXJe9WtSeNwxhojMC8hv+i8IQWMXK9Gh3Y4Y43p8lMFfDW6+mvXkZr4wrge5RA1bV3hghhrjMC9NCvrXwzExYqut9RptEm+Yc5YY0u0yA3OXuX5WsDYJXvHJK8jjzpKdnB81vCjH8XP4pEz7+y3HrO1nUn4eJ7nSH//+9/DFvRxBI6x/fbbyT3fEnPLzbfIQ1/8dC1/1P3NN9+URiguoYVLojVU2kk7VN7B/5Daientt6dm7cSa8iH4U4tzzzW3+A4bNkzOeuGvuOmBDyj4obSLL7lEQlx66aU2gG+15Vbhevp+Lz/8sx1djkfsyfRt5HH0m+Mj6FOBfIDBy4+Bbu555qE3de0Xjjv+ODqDO8k+8Ye8oMifyUgAJdG76TWi404cJ+toNN3r1jx6RjwnfXaQn0I/7sfH0a2EcYEPeDgEv0HsxJNODEfTRyx22nEnaxvauB19JvAousIwbtwJ4fHHHpNsb9F6H0+ffuTfBu+3/35yIAI8n+luQG/04o868K2AO+6407UQ7PTAVz222257yfehD38o/IJqWU5/+tOfwl5f/GLg7yr/+c//a2ZZdJrxa1OxvPw1J2lDXP9zzBmX97jjqR0nhdffeF38n3qSlpeW/xha3h3pi2Deh3n+LOKRRx4pbX/sMXrvOE1aap2bnETBmD5KDWbD1SM6UwPb5eeipIoKl0SrmFd53gDGqLV3jIG79S+lSNUSLolWKK/yvAGMUWvvGAP3WX8biNsD4kEDhzDWmJRRuDY9G2EDVddcUh0sanMIY43xDsTX9Xz0wjvdxegMix9OWmutNcPOO+8i90l32WXX8Hb8RmwRSGJptBTz9NPOCMuOWJZ+ytIT1ltv3bD77nuEHbbfQb4129Mzm+huvuXmeijRIA6owiDxJWx+CQjOjLidO0k7l5R72FOn0VkywImxXH/8421ykDDvfPPSDprbtx59ZOCrYZ999g1rrrlmWJcu9d58002EtyBh/PiTw7zz0QNthOez6R3pe7yv0Nk3WnYqPTQ099xzhYELDgyLDF0kDBs6PCw6fNEwfPiwMGzYUPnC0aBBg8Jcc80VXnuNB4sUOwZxBDZQZFHKr96cnx5a4+8I89PfkgO5hg6T/Pyiknnmnic888zT4nTDDTfKQMpXNfhrS9ym4YsOJ99FiVefwYMXEszVV18lPq+++gq1d+7A7WafoYRjPJ8NL0r/nJvbMIAe9PvB4T8kH9deY5U555xzZd3zILg0XUkYQwd2O++yM9V7rbDAAguEfekJdK0Lp4azUl7eAfQClsGyvNwGzc9U2k6fzxw4aLDU/5mn6Wlrmm64/oYw37zz0VWcQdROWh/0qU3Gq89wWp4hFG8wLe984eqry9865/klIM2ghZzov8f275dH+XyJcymhuTJqcwhjjfEOxLfpGQYbqLrmkupgUZtDGGuMdyC+Tc8w2EDVNZdUB4vaHMJYY7wD8W16hsEGqq65pDpY1OYQxhrjHYhv0zMMNlB1zSXVwaI2hzDWGO9AfJueYbCBqmsPG2gHTPuQOPHxtYjGwFKjOYLuN5OjRcqMJPB5FP3xj3RoIHRTBiQAmcRujMPmbI6YsfxvvPFWddNNN1aPPPLXarbZZ6s2HDWqWmaZESmwBTUm2Qru/gceqO6fNKmiM7JqnnnmrhZdbLFqnbXXrWjwcMvBThRrJpf/zbfeqG684SZq5yPV7LNROzfcsFp6mWWyFuQtzJf/1VderW79463VE088UT337JRqiSWWqj660orVSiuu1Fj/t95+q5r84ORq2NBhFQ1i2ua0NrO8EHrLn9Yjo2d++YsCImVGP2j5H5g8uZp0L/eHJ6sB8w2olvrQUhWdWVc0mM/0+v9XXP5/he3//d7/dPnf3/3/B7X+NBBz03hq263lO3jFxnnuYqZSDVmpn5sLMUCpLmVNnEcLn7uYuVRDVurn5kIMUKpLWRPn0cLnLmYu1ZCV+rm5EAOU6lLWxHm08LmLmUs1ZKV+bi7EAKW6lDVxHi187mLmUg1ZqZ+bCzFAqS5lTZxHC5+7mLlUQ1bq5+ZCDFCqS1kT59HC5y5mLtWQlfq5uRADlOpS1sR5tPC5i5lLNWSlfm4uxAClupQ1cR4tfO5i5lINWamfmwsxQKkuZU2cRwufu5i5VENW6ufmQgxQqktZE+fRwucuZi7VkJX6ubkQA5TqUtbEebTwuYuZSzVkpX5uLsQApbqUNXEeLXzuYuZSDVmpn5sLMUCpLmVNnEcLn7uYuVRDVurn5kIMUKpLWRPn0cLnLmYu1ZCV+rm50LVImfQoJUsJb8J6V+GdTawi8+kugcuz3XgmmFLWORyldPndOYWrpbJu7mxd/akYUo+u/3XbX7f/6fa/fnzhfQPtF7IxyduV/0CMP+mMuGhgtrNnm1fEIdOrzN0Np2Y3JoZxsvkVTA3iFV1+GbJ9Sax8Xf3tcMbqY0zX/6QUrh7WbwqmBvGKbvvrtr/41vXaINftf/qz/6ldms43t3gw4ZWyvTqFsCrznKe0bhIOHKgi/Vwt3m68McA7hbAq85ynLr/WwR88oWKgQCSaaoj6GdYYoJ1CWJV5zhP8u/ypTuBAtVJ+rhZvN94Y4J1CWJV5zlNXf61D1/9SPwEHigolqhZvN94YoJ1CWJV5zlPX/7QOM9P/9NI0iufqK6Fwzk6CmYxBskhLfaMMZaQ5cUkQkwDxyS54poZ0+bMKWIFQO6Jpi4i1BSjSnHT1R3lQ2K7/d9tft/+RrcE2DWOwkURa6htlKCPNyf/t/Y9dmnY7HV/ionTeZDww9UoaRMfPBIwGp+jy204vVS1V1FXKm4VPtsSVILHUzE7R1b+rf/5zhqxvuZ5Sdi13bNyOEkvN7BRd/+v63//h/ucuTbvty20f2dboIMqWwDRw1KBeQW6B3tHgfuzkrfUg9TQRXzfUNXlokbr8Xf27/tdtf9klI7efKHcipWzQuqGuMXBiCNTt/7r9vx//8oFYOggdmKHLtBylwuwOhSNbdEOIQnnGY2y6yQ+zj5c95NblbzxK9vXCytJaFhWFKJRnXf27/tdtf/KeNtrJYfPw21O3/+n2/+/H+KcDca1Hlp3UARxrHbi/DGKBuji5ykmOdfD+sYgF6qLkKic51sH7xyIWqIuSq5zkWAfvH4tYoC5KrnKSYx28fyxigbooucpJjnXw/rGIBeqi5ConOdbB+8ciFqiLkquc5FgH7x+LWKAuSq5ykmMdvH8sYoG6KLnKSY518P6xiAXqouQqJznWwfvHIhaoi5KrnORYB+8fi1igLkqucpJjHbx/LGKBuii5ykmOdfD+sYgF6qLkKic51sH7xyIW0fyM2MIBYYpyZE4GgTq8scbYkWfStIfTwB4ZUzWoxCJ6ZzTWmC4/FYqP8lJFcj5W2BGPjOoGlVhE74zGGmN5k6bL72vhCt9e7DYH0TujscZ09aeqdv0/3+ZS76j3vhzZ3iXFIoFcNGON6frfDPQ/Goj5nZd0uSqej6fypRUEHShbwIMmdMl5hOeBo9+ddfm7+nf9TzaI5i2kfSBpwmPLUuoRngeq2/66/U+3/3/fxz97ahpDq2yrfoONvKmMwZY8U9S8icnux3T5qY40GkmBrEqki7ypjJmpugNs3sR09dcBTmsTKyPEqtTVv+t/1AewXXJP8X2D5ZmbzJuYbvvrtr94/tF2abqhuxUdxz9HpZ3LulhyFpV704r1WYc1Xc7UEKTwHbfLT504O4t0FQMrtKt//flMFCjvc16qIUjR9b+04+y2v2776/Y/usfQfYXbY4AVOmP7X7tHXIP7Lc3voSJfw2eYrCXJUlNDwWN3sbvs8qctPVXQuFq9zMIM6goajRBBDdfVv1bPrv91/Q8jTbZtqVDrLxkGGxhot/1JBVAO0G7/Q2XRs6kevkUceetKVifS0KVrOvNSsNcbODI1W6EoRPESXYPBq7r8Xf27/tdtf7zD8PuFuNsxUrMVikIUP9E1GLyq2/90+5/3Yv9jZ8Tao30XZI2XPa/ozBxV8FE0zf31PGBazzbKHF72fJdfKtBQkq7+WhSbd/0PB93Y+qiLUHUaz/bKDuVlz3fbX7f9UQUaugSUaqJ5t/3N0PYnA7E/6tNCcjfzNyCtrNL/oiWuB782PC9QnbGa0Y0bP1ncWXeXX4pF9erqL51HupTMpL+xrut/Uplu+5O+oH3DV0R5N5dNimbd/scVJbHd/jed9b9v4w+tBL7dQZ1UO7SxvJ6wx0vrrJVjP57EJRNU7+c1syXtSU2xYN6znc9iZkLdp2bu8nfrv+v/tKF025/tCni30e3/6jvPFk22T82EukPNbEX/v9v/evRXxL5YUpWocCWLam9lkMotRoQlc/5uVURpeuQBNkRnSltESwpVtxi7/FoBKk9XfzrqtT1r7C/UqbzWipXhWNv1v277y7qBdhWad/sfO3xDMaw2xnT7nz73v/JCDysl9k9WQWVa1AWqXcz8WeDJjjbVKvMMqDCet6gToA8u82eBpy6/1sHvSrJCRTORFnUC9MFl/l39tVpd/4u9RnuHzLOOkjpVizoB+uAyfxZ46uqvdei2f+kM0keyjhLLQ6RFnQB9cJk/CzwV/S89rJWhFWtzPNxBmKZ774ZrYFLYprMP55CAThnZLj+tOFpzXf27/kfdwLbh+pZS06TNqtv+6lc/XLlSoZwyst3+p9v/vMv734ZL077zMd+82ffWb+UQIoZpdo/eRFoHdun8Xf6u/l3/w6bkabf9tW0ZVCUuDqbG7tPtf6R63f73AzP+2KVp6bcNW3euSh1YBtjciK5PVA0wgxogUzjBscDmqihBCQqwUTXADFqYo+isjgU2V0UJSlCAjaoBZtDCHEVndSywuSpKUIICbFQNMIMW5ig6q2OBzVVRghIUYKNqgBm0MEfRWR0LbK6KEpSgABtVA8yghTmKzupYYHNVlKAEBdioGmAGLcxRdFbHApurogQlKMBG1QAzaGGOorM6FthcFSUoQQE2qgaYQQtzFJ3VscDmqihBCQqwUTXADFqYo+isjgU2V0UJSlCAjaoBZtDCHEVndSywuSpFcOANAAAB0klEQVRKUIICbFQNMIMW5ig6q2OBzVVRghIUYKNqgBm0MEfRWR0LbK6KEpSgABtVA8yghTmKzupYYHNVlKAEBdioGmAGLcxRVGs6IwYa1LzqjELagXVLqUmycWBA62lNo5B2YN1SapJsHBhQy1ZnFNIOrFtKTZKNAwNaT2sahbQD65ZSk2TjwIBatjqjkHZg3VJqkmwcGNB6WtMopB1Yt5SaJBsHBtSy1RmFtAPrllKTZOPAgNbTmkYh7cC6pdQk2TgwoJatziikHVi3lJokGwcGtJ7WNAppB9YtpSbJxoEBtWx1RiHtwLql1CTZODCg9bSmUUg7sG4pNUk2DgyoZaszCmkH1i2lJsnGgQGtpzWNQtqBdUupSbJxYEAtW51RSDuwbik1SQaX7hFbPpiY8sTXdojHNWSYVeuuPMMAyr71yazCmOSA0DHlqcvf1Z/6Qtf/bFPARoctRbcTSKCqLedmFcYkB4OOKU/d9tdtf9QXuu3PNoV3Y/uLr7jExqebXtO8GQEtaO6ZfihePChCcKxXvYrd7O+jNSOgBfUelIPuM+vrybr82YMqVK6u/rpddf2Ptpn4G+p868mlli2Mnem/xdptf93+R16i0u1/+9r//n+EWzOxknZchQAAAABJRU5ErkJggg==)\n",
        "\n"
      ]
    },
    {
      "cell_type": "markdown",
      "metadata": {
        "id": "cM9HB1Q9AdMQ"
      },
      "source": [
        "This type of calculation is easy in Python, as we can use the operators +, -, * and / in the normal way! Even though Python can do the order of operations correctly, let's use parantheses for the division, to make it more clear:"
      ]
    },
    {
      "cell_type": "code",
      "metadata": {
        "colab": {
          "base_uri": "https://localhost:8080/"
        },
        "id": "LYI67ZPSBBw0",
        "outputId": "cff58045-aaf2-4cde-eb90-9296138788df"
      },
      "source": [
        "# Calculate the percentage of men who survived\n",
        "percentage_men = (survived_men / total_men) * 100\n",
        "\n",
        "# Print the percentage\n",
        "print(percentage_men)"
      ],
      "execution_count": null,
      "outputs": [
        {
          "output_type": "stream",
          "text": [
            "17.72151898734177\n"
          ],
          "name": "stdout"
        }
      ]
    },
    {
      "cell_type": "markdown",
      "metadata": {
        "id": "_7xcJFHiBZSI"
      },
      "source": [
        "And again, let's round our number, give 1 decimal place and use the correct units! \n",
        "\n",
        "**3.3. a) How many percent of men survived?**\n",
        "\n",
        "**Answer:** 17.7%"
      ]
    },
    {
      "cell_type": "markdown",
      "metadata": {
        "id": "VnZWTaNHB3Zp"
      },
      "source": [
        "To answer part b), we can do the exact same but this time using 'female' instead of 'male'. \n",
        "\n",
        "**Can you write this bit of code yourself?**"
      ]
    },
    {
      "cell_type": "code",
      "metadata": {
        "colab": {
          "base_uri": "https://localhost:8080/"
        },
        "id": "rVXZapCOCHVK",
        "outputId": "eef4ff63-d02a-45b4-882d-0dd6a95fa064"
      },
      "source": [
        "# Create a dataframe of only women from the adults_df\n",
        "women_df = adults_df.loc[adults_df['Sex']=='female']\n",
        "\n",
        "# Print the new dataframe\n",
        "print(women_df)"
      ],
      "execution_count": null,
      "outputs": [
        {
          "output_type": "stream",
          "text": [
            "     Survived  Pclass  ...     Sex   Age\n",
            "1           1       1  ...  female  38.0\n",
            "2           1       3  ...  female  26.0\n",
            "3           1       1  ...  female  35.0\n",
            "8           1       3  ...  female  27.0\n",
            "11          1       1  ...  female  58.0\n",
            "..        ...     ...  ...     ...   ...\n",
            "879         1       1  ...  female  56.0\n",
            "880         1       2  ...  female  25.0\n",
            "882         0       3  ...  female  22.0\n",
            "885         0       3  ...  female  39.0\n",
            "887         1       1  ...  female  19.0\n",
            "\n",
            "[206 rows x 5 columns]\n"
          ],
          "name": "stdout"
        }
      ]
    },
    {
      "cell_type": "code",
      "metadata": {
        "colab": {
          "base_uri": "https://localhost:8080/"
        },
        "id": "kGHLFHVwTFmD",
        "outputId": "3cd7f1eb-f8b5-4efc-a5cf-de3491ee8791"
      },
      "source": [
        "# Select only the needed columns ('Sex' and 'Survived')\n",
        "women_df = women_df[['Sex', 'Survived']]\n",
        "\n",
        "# Print the new dataframe \n",
        "print(women_df)"
      ],
      "execution_count": null,
      "outputs": [
        {
          "output_type": "stream",
          "text": [
            "        Sex  Survived\n",
            "1    female         1\n",
            "2    female         1\n",
            "3    female         1\n",
            "8    female         1\n",
            "11   female         1\n",
            "..      ...       ...\n",
            "879  female         1\n",
            "880  female         1\n",
            "882  female         0\n",
            "885  female         0\n",
            "887  female         1\n",
            "\n",
            "[206 rows x 2 columns]\n"
          ],
          "name": "stdout"
        }
      ]
    },
    {
      "cell_type": "code",
      "metadata": {
        "colab": {
          "base_uri": "https://localhost:8080/"
        },
        "id": "Z6KJeUGPTJCc",
        "outputId": "9a4c1f8f-fdd0-4417-eede-c347acc34cf3"
      },
      "source": [
        "# Create a variable for the number of rows in women_df, \n",
        "# i.e. total number of women\n",
        "total_women = len(women_df)\n",
        "\n",
        "# Print number of total women on board\n",
        "print(total_women)"
      ],
      "execution_count": null,
      "outputs": [
        {
          "output_type": "stream",
          "text": [
            "206\n"
          ],
          "name": "stdout"
        }
      ]
    },
    {
      "cell_type": "code",
      "metadata": {
        "colab": {
          "base_uri": "https://localhost:8080/"
        },
        "id": "Do-_wGyQTKjp",
        "outputId": "31a96907-6e91-4169-976b-fa4fa7c00103"
      },
      "source": [
        "# Select only survived women\n",
        "survived_women_df = women_df.loc[women_df['Survived']==1]\n",
        "\n",
        "# Print the new dataframe\n",
        "print(survived_women_df)"
      ],
      "execution_count": null,
      "outputs": [
        {
          "output_type": "stream",
          "text": [
            "        Sex  Survived\n",
            "1    female         1\n",
            "2    female         1\n",
            "3    female         1\n",
            "8    female         1\n",
            "11   female         1\n",
            "..      ...       ...\n",
            "871  female         1\n",
            "874  female         1\n",
            "879  female         1\n",
            "880  female         1\n",
            "887  female         1\n",
            "\n",
            "[159 rows x 2 columns]\n"
          ],
          "name": "stdout"
        }
      ]
    },
    {
      "cell_type": "code",
      "metadata": {
        "colab": {
          "base_uri": "https://localhost:8080/"
        },
        "id": "TrX5ah8VTOMP",
        "outputId": "1848b000-30da-4e1f-8edd-402aef09709c"
      },
      "source": [
        "# Get the number of survived women\n",
        "survived_women = len(survived_women_df)\n",
        "\n",
        "# Print the number of survived women\n",
        "print(survived_women)"
      ],
      "execution_count": null,
      "outputs": [
        {
          "output_type": "stream",
          "text": [
            "159\n"
          ],
          "name": "stdout"
        }
      ]
    },
    {
      "cell_type": "code",
      "metadata": {
        "colab": {
          "base_uri": "https://localhost:8080/"
        },
        "id": "9vkLs6B2TPel",
        "outputId": "9452ee6c-c78f-438a-b5b0-b9968a6c10a9"
      },
      "source": [
        "# Calculate the percentage of women who survived\n",
        "percentage_women = (survived_women / total_women) * 100\n",
        "\n",
        "# Print the percentage\n",
        "print(percentage_women)"
      ],
      "execution_count": null,
      "outputs": [
        {
          "output_type": "stream",
          "text": [
            "77.18446601941747\n"
          ],
          "name": "stdout"
        }
      ]
    },
    {
      "cell_type": "markdown",
      "metadata": {
        "id": "y9MCxcTtStog"
      },
      "source": [
        "**3.3. b) How many percent of women survived?**\n",
        "\n",
        "**Answer**: "
      ]
    },
    {
      "cell_type": "markdown",
      "metadata": {
        "id": "UKLYCzTlT16z"
      },
      "source": [
        "Next let's try to answer part c).\n",
        "\n",
        "This is again very similar to the above, except that we need to select children whose age is less than 18.0 years from our clean_df. \n",
        "\n",
        "**How do you select this from the clean_df?**"
      ]
    },
    {
      "cell_type": "code",
      "metadata": {
        "colab": {
          "base_uri": "https://localhost:8080/"
        },
        "id": "bHo5pLuyUJkF",
        "outputId": "5cddf20a-aefd-4b38-d839-c16ef752d58b"
      },
      "source": [
        "# Create a dataframe of only children\n",
        "children_df = clean_df.loc[clean_df['Age'] < 18.0]\n",
        "\n",
        "# Print the new dataframe\n",
        "print(children_df)"
      ],
      "execution_count": null,
      "outputs": [
        {
          "output_type": "stream",
          "text": [
            "     Survived  Pclass                                     Name     Sex   Age\n",
            "7           0       3           Palsson, Master. Gosta Leonard    male   2.0\n",
            "9           1       2      Nasser, Mrs. Nicholas (Adele Achem)  female  14.0\n",
            "10          1       3          Sandstrom, Miss. Marguerite Rut  female   4.0\n",
            "14          0       3     Vestrom, Miss. Hulda Amanda Adolfina  female  14.0\n",
            "16          0       3                     Rice, Master. Eugene    male   2.0\n",
            "..        ...     ...                                      ...     ...   ...\n",
            "850         0       3  Andersson, Master. Sigvard Harald Elias    male   4.0\n",
            "852         0       3                  Boulos, Miss. Nourelain  female   9.0\n",
            "853         1       1                Lines, Miss. Mary Conover  female  16.0\n",
            "869         1       3          Johnson, Master. Harold Theodor    male   4.0\n",
            "875         1       3         Najib, Miss. Adele Kiamie \"Jane\"  female  15.0\n",
            "\n",
            "[113 rows x 5 columns]\n"
          ],
          "name": "stdout"
        }
      ]
    },
    {
      "cell_type": "markdown",
      "metadata": {
        "id": "Ae0GGYAsVYz-"
      },
      "source": [
        "**How do we select only the required columns 'Survived' and 'Age'?**"
      ]
    },
    {
      "cell_type": "code",
      "metadata": {
        "colab": {
          "base_uri": "https://localhost:8080/"
        },
        "id": "1rT0Al-OVfe4",
        "outputId": "ccf60a87-b369-4cad-8a34-7e1a7cb5e691"
      },
      "source": [
        "# Select only the required columns\n",
        "children_df = children_df[['Survived','Age']]\n",
        "\n",
        "# Print the new dataframe\n",
        "print(children_df)"
      ],
      "execution_count": null,
      "outputs": [
        {
          "output_type": "stream",
          "text": [
            "     Survived   Age\n",
            "7           0   2.0\n",
            "9           1  14.0\n",
            "10          1   4.0\n",
            "14          0  14.0\n",
            "16          0   2.0\n",
            "..        ...   ...\n",
            "850         0   4.0\n",
            "852         0   9.0\n",
            "853         1  16.0\n",
            "869         1   4.0\n",
            "875         1  15.0\n",
            "\n",
            "[113 rows x 2 columns]\n"
          ],
          "name": "stdout"
        }
      ]
    },
    {
      "cell_type": "markdown",
      "metadata": {
        "id": "qaqH0vMuUljk"
      },
      "source": [
        "**Can you get the total number of children?**"
      ]
    },
    {
      "cell_type": "code",
      "metadata": {
        "colab": {
          "base_uri": "https://localhost:8080/"
        },
        "id": "hY5uTjbPUo05",
        "outputId": "2bdb313b-588e-40ff-cbba-a66a0e015e5b"
      },
      "source": [
        "# Create a variable for the number of rows in children_df\n",
        "# i.e. the total number of children\n",
        "total_children = len(children_df)\n",
        "\n",
        "# Print number of total children on board\n",
        "print(total_children)"
      ],
      "execution_count": null,
      "outputs": [
        {
          "output_type": "stream",
          "text": [
            "113\n"
          ],
          "name": "stdout"
        }
      ]
    },
    {
      "cell_type": "markdown",
      "metadata": {
        "id": "A-PvtaT9U548"
      },
      "source": [
        "**How many children survived?**"
      ]
    },
    {
      "cell_type": "code",
      "metadata": {
        "colab": {
          "base_uri": "https://localhost:8080/"
        },
        "id": "4kIY5-xlU85Y",
        "outputId": "f8cf7788-08df-4b97-aaa4-3c13b3e31404"
      },
      "source": [
        "# Create a new dataframe from children_df of only survived children\n",
        "survived_children_df = children_df.loc[children_df['Survived']== 1]\n",
        "\n",
        "# Print the new dataframe\n",
        "print(survived_children_df)"
      ],
      "execution_count": null,
      "outputs": [
        {
          "output_type": "stream",
          "text": [
            "     Survived    Age\n",
            "9           1  14.00\n",
            "10          1   4.00\n",
            "22          1  15.00\n",
            "39          1  14.00\n",
            "43          1   3.00\n",
            "..        ...    ...\n",
            "830         1  15.00\n",
            "831         1   0.83\n",
            "853         1  16.00\n",
            "869         1   4.00\n",
            "875         1  15.00\n",
            "\n",
            "[61 rows x 2 columns]\n"
          ],
          "name": "stdout"
        }
      ]
    },
    {
      "cell_type": "markdown",
      "metadata": {
        "id": "g9wW7Bg_VzOD"
      },
      "source": [
        "**Can you get the number of survived children?**"
      ]
    },
    {
      "cell_type": "code",
      "metadata": {
        "colab": {
          "base_uri": "https://localhost:8080/"
        },
        "id": "cPqFfP-5V2-S",
        "outputId": "cdfe1ca6-c0ac-469b-8266-411ac7722929"
      },
      "source": [
        "# Get the number of survived children\n",
        "survived_children = len(survived_children_df)\n",
        "\n",
        "# Print the number of survived children\n",
        "print(survived_children)"
      ],
      "execution_count": null,
      "outputs": [
        {
          "output_type": "stream",
          "text": [
            "61\n"
          ],
          "name": "stdout"
        }
      ]
    },
    {
      "cell_type": "markdown",
      "metadata": {
        "id": "dvbWiVL6WAv3"
      },
      "source": [
        "**How many percent of children survived?**"
      ]
    },
    {
      "cell_type": "code",
      "metadata": {
        "colab": {
          "base_uri": "https://localhost:8080/"
        },
        "id": "jl9tIReiWD-N",
        "outputId": "bd883159-9fd5-4745-d720-0ee07049a9d8"
      },
      "source": [
        "# Calculate the percentage of children who survived\n",
        "percentage_children = (survived_children / total_children) * 100\n",
        "\n",
        "# Print the percentage\n",
        "print(percentage_children)"
      ],
      "execution_count": null,
      "outputs": [
        {
          "output_type": "stream",
          "text": [
            "53.98230088495575\n"
          ],
          "name": "stdout"
        }
      ]
    },
    {
      "cell_type": "markdown",
      "metadata": {
        "id": "UKOIo43ZWVEh"
      },
      "source": [
        "**3.3. c) How many percent of children survived?**\n",
        "\n",
        "**Answer:** "
      ]
    },
    {
      "cell_type": "markdown",
      "metadata": {
        "id": "KfkINNMFWysA"
      },
      "source": [
        "##4. Data analysis\n",
        "\n",
        "Now that we have answered all of our questions, we need to analyse the results. \n",
        "\n",
        "This is a very important part of data science, as we need to understand what our results mean as well as why we have obtained these results. \n",
        "\n",
        "Let's summarise our results here:\n",
        "\n",
        "\n",
        "**Average age of passengers:** 29.7 years\n",
        "\n",
        "**Average age of survivors:** 28.3 years\n",
        "\n",
        "**Percentage of men who survived:** 17.7%\n",
        "\n",
        "**Percentage of women who survived:** 77.2%\n",
        "\n",
        "**Percentage of children who survived:** 54.0%"
      ]
    },
    {
      "cell_type": "markdown",
      "metadata": {
        "id": "8iLgdlulXv7S"
      },
      "source": [
        "To analyse our results, we can ask ourselves the following questions:\n",
        "\n",
        "1. Why is the average age of survivors lower than the average age of all the passengers?\n",
        "\n",
        "2. Why did only 17.7% of men survive?\n",
        "\n",
        "3. Why did 77.2% of women survive?\n",
        "\n",
        "4. Why did 54.0% of children survive?\n"
      ]
    }
  ]
}